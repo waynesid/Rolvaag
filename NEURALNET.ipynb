{
 "cells": [
  {
   "cell_type": "code",
   "execution_count": 1,
   "metadata": {},
   "outputs": [],
   "source": [
    "import numpy as np\n",
    "import pandas as pd\n",
    "import matplotlib.pyplot as plt\n",
    "\n",
    "\n"
   ]
  },
  {
   "cell_type": "code",
   "execution_count": 2,
   "metadata": {},
   "outputs": [],
   "source": [
    "#load the team related datasets into the notebook and save them as dataframes\n",
    "def country_df(csv):\n",
    "  df = pd.read_csv(csv)\n",
    "  df.sort_values('HomeTeam', inplace=True)\n",
    "  df.reset_index(inplace=True)\n",
    "  df.drop(\"index\", axis =1 , inplace=True)\n",
    "\n",
    "  return df\n",
    "\n",
    "df_france = country_df('FootballData/F1.csv')\n",
    "df_spain  = country_df('FootballData/SP1.csv')\n",
    "df_england  = country_df('FootballData/E0.csv')\n",
    "df_championship  = country_df('FootballData/E1.csv')\n",
    "#df_finland  = country_df('/content/drive/MyDrive/FootballData/FIN.csv')\n",
    "#df_germany = country_df('FootballData/D1.csv')\n",
    "df_england_22 = country_df('FootballData/E0_22.csv')\n",
    "df_spa_22 = country_df('FootballData/SP1_22.csv')\n",
    "#df_jpn = country_df('FootballData/JPN.csv')\n",
    "df_ita = country_df('FootballData/I1.csv')\n",
    "df_E1 = country_df('FootballData/E1.csv')\n",
    "df_E2 = country_df('FootballData/E2.csv')\n",
    "df_E3 = country_df('FootballData/E3.csv')\n",
    "df_EC = country_df('FootballData/EC.csv')\n",
    "df_F2 = country_df('FootballData/F2.csv')\n",
    "df_I2 = country_df('FootballData/I2.csv')\n",
    "df_dataE0 = country_df('FootballData/data (9)/E0.csv')\n",
    "df_dataE1 = country_df('FootballData/data (9)/E1.csv')\n",
    "df_dataE2 = country_df('FootballData/data (9)/E2.csv')\n",
    "df_dataE3 = country_df('FootballData/data (9)/E3.csv')\n",
    "df_dataEC = country_df('FootballData/data (9)/EC.csv')\n",
    "df_dataF2 = country_df('FootballData/data (9)/F2.csv')\n",
    "df_dataG1 = country_df('FootballData/data (9)/G1.csv')\n",
    "df_dataN1 = country_df('FootballData/data (9)/N1.csv')\n",
    "df_dataP1 = country_df('FootballData/data (9)/P1.csv')\n",
    "df_dataSC0 = country_df('FootballData/data (9)/SC0.csv')\n",
    "df_dataSC1 = country_df('FootballData/data (9)/SC1.csv')\n",
    "df_dataSC2 = country_df('FootballData/data (9)/SC2.csv')\n",
    "df_dataSC3 = country_df('FootballData/data (9)/SC3.csv')\n",
    "df_dataSP2 = country_df('FootballData/data (9)/SP2.csv')\n",
    "df_dataSP1 = country_df('FootballData/data (9)/SP1.csv')\n",
    "df_dataT1 = country_df('FootballData/data (9)/T1.csv')\n",
    "\n",
    "df_data8E0 = country_df('FootballData/data (8)/E0.csv')\n",
    "df_data8E1 = country_df('FootballData/data (8)/E1.csv')\n",
    "df_data8E2 = country_df('FootballData/data (8)/E2.csv')\n",
    "df_data8E3 = country_df('FootballData/data (8)/E3.csv')\n",
    "df_data8EC = country_df('FootballData/data (8)/EC.csv')\n",
    "#df_data8F2 = country_df('FootballData/data (8)/F2.csv')\n",
    "df_data8G1 = country_df('FootballData/data (8)/G1.csv')\n",
    "#df_data8N1 = country_df('FootballData/data (8)/N1.csv')\n",
    "#df_data8P1 = country_df('FootballData/data (8)/P1.csv')\n",
    "df_data8SC0 = country_df('FootballData/data (8)/SC0.csv')\n",
    "df_data8SC1 = country_df('FootballData/data (8)/SC1.csv')\n",
    "df_data8SC2 = country_df('FootballData/data (8)/SC2.csv')\n",
    "df_data8SC3 = country_df('FootballData/data (8)/SC3.csv')\n",
    "#df_data8SP2 = country_df('FootballData/data (8)/SP2.csv')\n",
    "df_data8SP1 = country_df('FootballData/data (8)/SP1.csv')\n",
    "df_data8T1 = country_df('FootballData/data (8)/T1.csv')\n",
    "df_B1 = country_df('FootballData/B1.csv')\n",
    "\n",
    "\n",
    "\n",
    "data = pd.concat([df_france, df_spain, df_england, df_championship, df_england_22, df_spa_22, df_ita,df_E1,df_E2,df_E3,df_EC,df_F2,df_I2,df_dataE0,df_dataE1,df_dataE2,df_dataE3,df_dataEC,df_dataF2,df_dataG1,df_dataN1,df_dataP1,df_dataSC0,df_dataSC1,df_dataSC2,df_dataSC3,df_dataSP1,df_dataSP2,df_dataT1,\n",
    "                  df_data8E0,df_data8E1,df_data8E2,df_data8E3,df_data8EC,df_data8G1,df_data8SC0,df_data8SC1,df_data8SC2,df_data8SC3,df_data8SP1,df_data8T1], sort = False)\n",
    "\n",
    "\n"
   ]
  },
  {
   "cell_type": "code",
   "execution_count": 3,
   "metadata": {},
   "outputs": [
    {
     "data": {
      "text/plain": [
       "(15744, 139)"
      ]
     },
     "execution_count": 3,
     "metadata": {},
     "output_type": "execute_result"
    }
   ],
   "source": [
    "data.shape"
   ]
  },
  {
   "cell_type": "code",
   "execution_count": 4,
   "metadata": {},
   "outputs": [
    {
     "data": {
      "text/plain": [
       "Div             0\n",
       "Date            0\n",
       "HomeTeam        0\n",
       "AwayTeam        0\n",
       "FTHG            0\n",
       "            ...  \n",
       "AvgCAHH     14984\n",
       "AvgCAHA     14984\n",
       "BSH          5823\n",
       "BSD          5823\n",
       "BSA          5823\n",
       "Length: 139, dtype: int64"
      ]
     },
     "execution_count": 4,
     "metadata": {},
     "output_type": "execute_result"
    }
   ],
   "source": [
    "data.isna().sum()"
   ]
  },
  {
   "cell_type": "code",
   "execution_count": 5,
   "metadata": {},
   "outputs": [
    {
     "data": {
      "text/html": [
       "<div>\n",
       "<style scoped>\n",
       "    .dataframe tbody tr th:only-of-type {\n",
       "        vertical-align: middle;\n",
       "    }\n",
       "\n",
       "    .dataframe tbody tr th {\n",
       "        vertical-align: top;\n",
       "    }\n",
       "\n",
       "    .dataframe thead th {\n",
       "        text-align: right;\n",
       "    }\n",
       "</style>\n",
       "<table border=\"1\" class=\"dataframe\">\n",
       "  <thead>\n",
       "    <tr style=\"text-align: right;\">\n",
       "      <th></th>\n",
       "      <th>Div</th>\n",
       "      <th>Date</th>\n",
       "      <th>HomeTeam</th>\n",
       "      <th>AwayTeam</th>\n",
       "      <th>FTHG</th>\n",
       "      <th>FTAG</th>\n",
       "      <th>FTR</th>\n",
       "      <th>HTHG</th>\n",
       "      <th>HTAG</th>\n",
       "      <th>HTR</th>\n",
       "      <th>...</th>\n",
       "      <th>B365CAHA</th>\n",
       "      <th>PCAHH</th>\n",
       "      <th>PCAHA</th>\n",
       "      <th>MaxCAHH</th>\n",
       "      <th>MaxCAHA</th>\n",
       "      <th>AvgCAHH</th>\n",
       "      <th>AvgCAHA</th>\n",
       "      <th>BSH</th>\n",
       "      <th>BSD</th>\n",
       "      <th>BSA</th>\n",
       "    </tr>\n",
       "  </thead>\n",
       "  <tbody>\n",
       "    <tr>\n",
       "      <th>0</th>\n",
       "      <td>F1</td>\n",
       "      <td>04/03/06</td>\n",
       "      <td>Ajaccio</td>\n",
       "      <td>Lyon</td>\n",
       "      <td>1</td>\n",
       "      <td>3</td>\n",
       "      <td>A</td>\n",
       "      <td>0.0</td>\n",
       "      <td>0.0</td>\n",
       "      <td>D</td>\n",
       "      <td>...</td>\n",
       "      <td>NaN</td>\n",
       "      <td>NaN</td>\n",
       "      <td>NaN</td>\n",
       "      <td>NaN</td>\n",
       "      <td>NaN</td>\n",
       "      <td>NaN</td>\n",
       "      <td>NaN</td>\n",
       "      <td>NaN</td>\n",
       "      <td>NaN</td>\n",
       "      <td>NaN</td>\n",
       "    </tr>\n",
       "    <tr>\n",
       "      <th>1</th>\n",
       "      <td>F1</td>\n",
       "      <td>18/03/06</td>\n",
       "      <td>Ajaccio</td>\n",
       "      <td>Monaco</td>\n",
       "      <td>1</td>\n",
       "      <td>0</td>\n",
       "      <td>H</td>\n",
       "      <td>1.0</td>\n",
       "      <td>0.0</td>\n",
       "      <td>H</td>\n",
       "      <td>...</td>\n",
       "      <td>NaN</td>\n",
       "      <td>NaN</td>\n",
       "      <td>NaN</td>\n",
       "      <td>NaN</td>\n",
       "      <td>NaN</td>\n",
       "      <td>NaN</td>\n",
       "      <td>NaN</td>\n",
       "      <td>NaN</td>\n",
       "      <td>NaN</td>\n",
       "      <td>NaN</td>\n",
       "    </tr>\n",
       "    <tr>\n",
       "      <th>2</th>\n",
       "      <td>F1</td>\n",
       "      <td>08/04/06</td>\n",
       "      <td>Ajaccio</td>\n",
       "      <td>Toulouse</td>\n",
       "      <td>1</td>\n",
       "      <td>0</td>\n",
       "      <td>H</td>\n",
       "      <td>0.0</td>\n",
       "      <td>0.0</td>\n",
       "      <td>D</td>\n",
       "      <td>...</td>\n",
       "      <td>NaN</td>\n",
       "      <td>NaN</td>\n",
       "      <td>NaN</td>\n",
       "      <td>NaN</td>\n",
       "      <td>NaN</td>\n",
       "      <td>NaN</td>\n",
       "      <td>NaN</td>\n",
       "      <td>NaN</td>\n",
       "      <td>NaN</td>\n",
       "      <td>NaN</td>\n",
       "    </tr>\n",
       "    <tr>\n",
       "      <th>3</th>\n",
       "      <td>F1</td>\n",
       "      <td>20/08/05</td>\n",
       "      <td>Ajaccio</td>\n",
       "      <td>Le Mans</td>\n",
       "      <td>0</td>\n",
       "      <td>0</td>\n",
       "      <td>D</td>\n",
       "      <td>0.0</td>\n",
       "      <td>0.0</td>\n",
       "      <td>D</td>\n",
       "      <td>...</td>\n",
       "      <td>NaN</td>\n",
       "      <td>NaN</td>\n",
       "      <td>NaN</td>\n",
       "      <td>NaN</td>\n",
       "      <td>NaN</td>\n",
       "      <td>NaN</td>\n",
       "      <td>NaN</td>\n",
       "      <td>NaN</td>\n",
       "      <td>NaN</td>\n",
       "      <td>NaN</td>\n",
       "    </tr>\n",
       "    <tr>\n",
       "      <th>4</th>\n",
       "      <td>F1</td>\n",
       "      <td>13/05/06</td>\n",
       "      <td>Ajaccio</td>\n",
       "      <td>St Etienne</td>\n",
       "      <td>3</td>\n",
       "      <td>1</td>\n",
       "      <td>H</td>\n",
       "      <td>3.0</td>\n",
       "      <td>0.0</td>\n",
       "      <td>H</td>\n",
       "      <td>...</td>\n",
       "      <td>NaN</td>\n",
       "      <td>NaN</td>\n",
       "      <td>NaN</td>\n",
       "      <td>NaN</td>\n",
       "      <td>NaN</td>\n",
       "      <td>NaN</td>\n",
       "      <td>NaN</td>\n",
       "      <td>NaN</td>\n",
       "      <td>NaN</td>\n",
       "      <td>NaN</td>\n",
       "    </tr>\n",
       "  </tbody>\n",
       "</table>\n",
       "<p>5 rows × 139 columns</p>\n",
       "</div>"
      ],
      "text/plain": [
       "  Div      Date HomeTeam    AwayTeam  FTHG  FTAG FTR  HTHG  HTAG HTR  ...  \\\n",
       "0  F1  04/03/06  Ajaccio        Lyon     1     3   A   0.0   0.0   D  ...   \n",
       "1  F1  18/03/06  Ajaccio      Monaco     1     0   H   1.0   0.0   H  ...   \n",
       "2  F1  08/04/06  Ajaccio    Toulouse     1     0   H   0.0   0.0   D  ...   \n",
       "3  F1  20/08/05  Ajaccio     Le Mans     0     0   D   0.0   0.0   D  ...   \n",
       "4  F1  13/05/06  Ajaccio  St Etienne     3     1   H   3.0   0.0   H  ...   \n",
       "\n",
       "   B365CAHA  PCAHH  PCAHA  MaxCAHH  MaxCAHA  AvgCAHH  AvgCAHA  BSH  BSD  BSA  \n",
       "0       NaN    NaN    NaN      NaN      NaN      NaN      NaN  NaN  NaN  NaN  \n",
       "1       NaN    NaN    NaN      NaN      NaN      NaN      NaN  NaN  NaN  NaN  \n",
       "2       NaN    NaN    NaN      NaN      NaN      NaN      NaN  NaN  NaN  NaN  \n",
       "3       NaN    NaN    NaN      NaN      NaN      NaN      NaN  NaN  NaN  NaN  \n",
       "4       NaN    NaN    NaN      NaN      NaN      NaN      NaN  NaN  NaN  NaN  \n",
       "\n",
       "[5 rows x 139 columns]"
      ]
     },
     "execution_count": 5,
     "metadata": {},
     "output_type": "execute_result"
    }
   ],
   "source": [
    "data.head()"
   ]
  },
  {
   "cell_type": "code",
   "execution_count": 6,
   "metadata": {},
   "outputs": [
    {
     "data": {
      "text/html": [
       "<div>\n",
       "<style scoped>\n",
       "    .dataframe tbody tr th:only-of-type {\n",
       "        vertical-align: middle;\n",
       "    }\n",
       "\n",
       "    .dataframe tbody tr th {\n",
       "        vertical-align: top;\n",
       "    }\n",
       "\n",
       "    .dataframe thead th {\n",
       "        text-align: right;\n",
       "    }\n",
       "</style>\n",
       "<table border=\"1\" class=\"dataframe\">\n",
       "  <thead>\n",
       "    <tr style=\"text-align: right;\">\n",
       "      <th></th>\n",
       "      <th>FTHG</th>\n",
       "      <th>FTAG</th>\n",
       "      <th>HTHG</th>\n",
       "      <th>HTAG</th>\n",
       "      <th>HS</th>\n",
       "      <th>AS</th>\n",
       "      <th>HST</th>\n",
       "      <th>AST</th>\n",
       "      <th>HY</th>\n",
       "      <th>AY</th>\n",
       "      <th>...</th>\n",
       "      <th>B365CAHA</th>\n",
       "      <th>PCAHH</th>\n",
       "      <th>PCAHA</th>\n",
       "      <th>MaxCAHH</th>\n",
       "      <th>MaxCAHA</th>\n",
       "      <th>AvgCAHH</th>\n",
       "      <th>AvgCAHA</th>\n",
       "      <th>BSH</th>\n",
       "      <th>BSD</th>\n",
       "      <th>BSA</th>\n",
       "    </tr>\n",
       "  </thead>\n",
       "  <tbody>\n",
       "    <tr>\n",
       "      <th>count</th>\n",
       "      <td>15744.000000</td>\n",
       "      <td>15744.000000</td>\n",
       "      <td>15743.000000</td>\n",
       "      <td>15743.000000</td>\n",
       "      <td>11327.000000</td>\n",
       "      <td>11327.000000</td>\n",
       "      <td>11327.000000</td>\n",
       "      <td>11327.000000</td>\n",
       "      <td>11342.000000</td>\n",
       "      <td>11342.000000</td>\n",
       "      <td>...</td>\n",
       "      <td>759.000000</td>\n",
       "      <td>760.000000</td>\n",
       "      <td>760.000000</td>\n",
       "      <td>760.000000</td>\n",
       "      <td>760.000000</td>\n",
       "      <td>760.000000</td>\n",
       "      <td>760.000000</td>\n",
       "      <td>9921.000000</td>\n",
       "      <td>9921.000000</td>\n",
       "      <td>9921.000000</td>\n",
       "    </tr>\n",
       "    <tr>\n",
       "      <th>mean</th>\n",
       "      <td>1.437500</td>\n",
       "      <td>1.100356</td>\n",
       "      <td>0.643079</td>\n",
       "      <td>0.479896</td>\n",
       "      <td>12.011654</td>\n",
       "      <td>9.577911</td>\n",
       "      <td>5.742827</td>\n",
       "      <td>4.544010</td>\n",
       "      <td>1.448774</td>\n",
       "      <td>1.818815</td>\n",
       "      <td>...</td>\n",
       "      <td>1.957036</td>\n",
       "      <td>1.962368</td>\n",
       "      <td>1.967145</td>\n",
       "      <td>2.021408</td>\n",
       "      <td>2.027342</td>\n",
       "      <td>1.936118</td>\n",
       "      <td>1.940961</td>\n",
       "      <td>2.287810</td>\n",
       "      <td>3.413472</td>\n",
       "      <td>3.787174</td>\n",
       "    </tr>\n",
       "    <tr>\n",
       "      <th>std</th>\n",
       "      <td>1.219339</td>\n",
       "      <td>1.066113</td>\n",
       "      <td>0.803825</td>\n",
       "      <td>0.689384</td>\n",
       "      <td>4.622596</td>\n",
       "      <td>4.110183</td>\n",
       "      <td>2.974402</td>\n",
       "      <td>2.615035</td>\n",
       "      <td>1.250896</td>\n",
       "      <td>1.364154</td>\n",
       "      <td>...</td>\n",
       "      <td>0.099912</td>\n",
       "      <td>0.104936</td>\n",
       "      <td>0.104870</td>\n",
       "      <td>0.104814</td>\n",
       "      <td>0.109980</td>\n",
       "      <td>0.094286</td>\n",
       "      <td>0.093737</td>\n",
       "      <td>0.989092</td>\n",
       "      <td>0.486010</td>\n",
       "      <td>2.086802</td>\n",
       "    </tr>\n",
       "    <tr>\n",
       "      <th>min</th>\n",
       "      <td>0.000000</td>\n",
       "      <td>0.000000</td>\n",
       "      <td>0.000000</td>\n",
       "      <td>0.000000</td>\n",
       "      <td>0.000000</td>\n",
       "      <td>0.000000</td>\n",
       "      <td>0.000000</td>\n",
       "      <td>0.000000</td>\n",
       "      <td>0.000000</td>\n",
       "      <td>0.000000</td>\n",
       "      <td>...</td>\n",
       "      <td>1.580000</td>\n",
       "      <td>1.710000</td>\n",
       "      <td>1.610000</td>\n",
       "      <td>1.810000</td>\n",
       "      <td>1.650000</td>\n",
       "      <td>1.730000</td>\n",
       "      <td>1.600000</td>\n",
       "      <td>1.080000</td>\n",
       "      <td>2.620000</td>\n",
       "      <td>1.050000</td>\n",
       "    </tr>\n",
       "    <tr>\n",
       "      <th>25%</th>\n",
       "      <td>1.000000</td>\n",
       "      <td>0.000000</td>\n",
       "      <td>0.000000</td>\n",
       "      <td>0.000000</td>\n",
       "      <td>9.000000</td>\n",
       "      <td>7.000000</td>\n",
       "      <td>4.000000</td>\n",
       "      <td>3.000000</td>\n",
       "      <td>0.000000</td>\n",
       "      <td>1.000000</td>\n",
       "      <td>...</td>\n",
       "      <td>1.880000</td>\n",
       "      <td>1.880000</td>\n",
       "      <td>1.880000</td>\n",
       "      <td>1.940000</td>\n",
       "      <td>1.940000</td>\n",
       "      <td>1.860000</td>\n",
       "      <td>1.860000</td>\n",
       "      <td>1.730000</td>\n",
       "      <td>3.250000</td>\n",
       "      <td>2.600000</td>\n",
       "    </tr>\n",
       "    <tr>\n",
       "      <th>50%</th>\n",
       "      <td>1.000000</td>\n",
       "      <td>1.000000</td>\n",
       "      <td>0.000000</td>\n",
       "      <td>0.000000</td>\n",
       "      <td>12.000000</td>\n",
       "      <td>9.000000</td>\n",
       "      <td>5.000000</td>\n",
       "      <td>4.000000</td>\n",
       "      <td>1.000000</td>\n",
       "      <td>2.000000</td>\n",
       "      <td>...</td>\n",
       "      <td>1.960000</td>\n",
       "      <td>1.960000</td>\n",
       "      <td>1.960000</td>\n",
       "      <td>2.015000</td>\n",
       "      <td>2.020000</td>\n",
       "      <td>1.935000</td>\n",
       "      <td>1.940000</td>\n",
       "      <td>2.100000</td>\n",
       "      <td>3.250000</td>\n",
       "      <td>3.200000</td>\n",
       "    </tr>\n",
       "    <tr>\n",
       "      <th>75%</th>\n",
       "      <td>2.000000</td>\n",
       "      <td>2.000000</td>\n",
       "      <td>1.000000</td>\n",
       "      <td>1.000000</td>\n",
       "      <td>15.000000</td>\n",
       "      <td>12.000000</td>\n",
       "      <td>7.000000</td>\n",
       "      <td>6.000000</td>\n",
       "      <td>2.000000</td>\n",
       "      <td>3.000000</td>\n",
       "      <td>...</td>\n",
       "      <td>2.040000</td>\n",
       "      <td>2.040000</td>\n",
       "      <td>2.050000</td>\n",
       "      <td>2.102500</td>\n",
       "      <td>2.110000</td>\n",
       "      <td>2.010000</td>\n",
       "      <td>2.020000</td>\n",
       "      <td>2.500000</td>\n",
       "      <td>3.500000</td>\n",
       "      <td>4.330000</td>\n",
       "    </tr>\n",
       "    <tr>\n",
       "      <th>max</th>\n",
       "      <td>9.000000</td>\n",
       "      <td>9.000000</td>\n",
       "      <td>6.000000</td>\n",
       "      <td>5.000000</td>\n",
       "      <td>44.000000</td>\n",
       "      <td>33.000000</td>\n",
       "      <td>24.000000</td>\n",
       "      <td>18.000000</td>\n",
       "      <td>8.000000</td>\n",
       "      <td>9.000000</td>\n",
       "      <td>...</td>\n",
       "      <td>2.200000</td>\n",
       "      <td>2.480000</td>\n",
       "      <td>2.270000</td>\n",
       "      <td>2.520000</td>\n",
       "      <td>2.310000</td>\n",
       "      <td>2.420000</td>\n",
       "      <td>2.200000</td>\n",
       "      <td>23.000000</td>\n",
       "      <td>9.000000</td>\n",
       "      <td>23.000000</td>\n",
       "    </tr>\n",
       "  </tbody>\n",
       "</table>\n",
       "<p>8 rows × 131 columns</p>\n",
       "</div>"
      ],
      "text/plain": [
       "               FTHG          FTAG          HTHG          HTAG            HS  \\\n",
       "count  15744.000000  15744.000000  15743.000000  15743.000000  11327.000000   \n",
       "mean       1.437500      1.100356      0.643079      0.479896     12.011654   \n",
       "std        1.219339      1.066113      0.803825      0.689384      4.622596   \n",
       "min        0.000000      0.000000      0.000000      0.000000      0.000000   \n",
       "25%        1.000000      0.000000      0.000000      0.000000      9.000000   \n",
       "50%        1.000000      1.000000      0.000000      0.000000     12.000000   \n",
       "75%        2.000000      2.000000      1.000000      1.000000     15.000000   \n",
       "max        9.000000      9.000000      6.000000      5.000000     44.000000   \n",
       "\n",
       "                 AS           HST           AST            HY            AY  \\\n",
       "count  11327.000000  11327.000000  11327.000000  11342.000000  11342.000000   \n",
       "mean       9.577911      5.742827      4.544010      1.448774      1.818815   \n",
       "std        4.110183      2.974402      2.615035      1.250896      1.364154   \n",
       "min        0.000000      0.000000      0.000000      0.000000      0.000000   \n",
       "25%        7.000000      4.000000      3.000000      0.000000      1.000000   \n",
       "50%        9.000000      5.000000      4.000000      1.000000      2.000000   \n",
       "75%       12.000000      7.000000      6.000000      2.000000      3.000000   \n",
       "max       33.000000     24.000000     18.000000      8.000000      9.000000   \n",
       "\n",
       "       ...    B365CAHA       PCAHH       PCAHA     MaxCAHH     MaxCAHA  \\\n",
       "count  ...  759.000000  760.000000  760.000000  760.000000  760.000000   \n",
       "mean   ...    1.957036    1.962368    1.967145    2.021408    2.027342   \n",
       "std    ...    0.099912    0.104936    0.104870    0.104814    0.109980   \n",
       "min    ...    1.580000    1.710000    1.610000    1.810000    1.650000   \n",
       "25%    ...    1.880000    1.880000    1.880000    1.940000    1.940000   \n",
       "50%    ...    1.960000    1.960000    1.960000    2.015000    2.020000   \n",
       "75%    ...    2.040000    2.040000    2.050000    2.102500    2.110000   \n",
       "max    ...    2.200000    2.480000    2.270000    2.520000    2.310000   \n",
       "\n",
       "          AvgCAHH     AvgCAHA          BSH          BSD          BSA  \n",
       "count  760.000000  760.000000  9921.000000  9921.000000  9921.000000  \n",
       "mean     1.936118    1.940961     2.287810     3.413472     3.787174  \n",
       "std      0.094286    0.093737     0.989092     0.486010     2.086802  \n",
       "min      1.730000    1.600000     1.080000     2.620000     1.050000  \n",
       "25%      1.860000    1.860000     1.730000     3.250000     2.600000  \n",
       "50%      1.935000    1.940000     2.100000     3.250000     3.200000  \n",
       "75%      2.010000    2.020000     2.500000     3.500000     4.330000  \n",
       "max      2.420000    2.200000    23.000000     9.000000    23.000000  \n",
       "\n",
       "[8 rows x 131 columns]"
      ]
     },
     "execution_count": 6,
     "metadata": {},
     "output_type": "execute_result"
    }
   ],
   "source": [
    "data.describe()"
   ]
  },
  {
   "cell_type": "code",
   "execution_count": 7,
   "metadata": {},
   "outputs": [
    {
     "name": "stderr",
     "output_type": "stream",
     "text": [
      "C:\\Users\\USER\\AppData\\Local\\Temp\\ipykernel_20260\\2952358931.py:2: PerformanceWarning: DataFrame is highly fragmented.  This is usually the result of calling `frame.insert` many times, which has poor performance.  Consider joining all columns at once using pd.concat(axis=1) instead. To get a de-fragmented frame, use `newframe = frame.copy()`\n",
      "  data['Form'] = data['FTHG'] / data['FTAG']\n"
     ]
    }
   ],
   "source": [
    "\n",
    "# Assuming df is your DataFrame and it has columns 'FTHG' and 'FTAG'\n",
    "data['Form'] = data['FTHG'] / data['FTAG']\n",
    "\n",
    "# Replace infinite values with NaN\n",
    "data['Form'] = data['Form'].replace([np.inf, -np.inf], np.nan)\n",
    "\n",
    "# You might want to fill NaN values with a specific value\n",
    "data['Form'] = data['Form'].fillna(0)"
   ]
  },
  {
   "cell_type": "code",
   "execution_count": 8,
   "metadata": {},
   "outputs": [],
   "source": [
    "data = data[[\"FTHG\",\"FTAG\",\"FTR\",\"HTHG\",\"HTAG\",\"Form\"]]"
   ]
  },
  {
   "cell_type": "code",
   "execution_count": 9,
   "metadata": {},
   "outputs": [
    {
     "data": {
      "text/plain": [
       "(15744, 6)"
      ]
     },
     "execution_count": 9,
     "metadata": {},
     "output_type": "execute_result"
    }
   ],
   "source": [
    "data.shape"
   ]
  },
  {
   "cell_type": "code",
   "execution_count": 10,
   "metadata": {},
   "outputs": [
    {
     "data": {
      "text/html": [
       "<div>\n",
       "<style scoped>\n",
       "    .dataframe tbody tr th:only-of-type {\n",
       "        vertical-align: middle;\n",
       "    }\n",
       "\n",
       "    .dataframe tbody tr th {\n",
       "        vertical-align: top;\n",
       "    }\n",
       "\n",
       "    .dataframe thead th {\n",
       "        text-align: right;\n",
       "    }\n",
       "</style>\n",
       "<table border=\"1\" class=\"dataframe\">\n",
       "  <thead>\n",
       "    <tr style=\"text-align: right;\">\n",
       "      <th></th>\n",
       "      <th>FTHG</th>\n",
       "      <th>FTAG</th>\n",
       "      <th>FTR</th>\n",
       "      <th>HTHG</th>\n",
       "      <th>HTAG</th>\n",
       "      <th>Form</th>\n",
       "    </tr>\n",
       "  </thead>\n",
       "  <tbody>\n",
       "    <tr>\n",
       "      <th>0</th>\n",
       "      <td>1</td>\n",
       "      <td>3</td>\n",
       "      <td>A</td>\n",
       "      <td>0.0</td>\n",
       "      <td>0.0</td>\n",
       "      <td>0.333333</td>\n",
       "    </tr>\n",
       "    <tr>\n",
       "      <th>1</th>\n",
       "      <td>1</td>\n",
       "      <td>0</td>\n",
       "      <td>H</td>\n",
       "      <td>1.0</td>\n",
       "      <td>0.0</td>\n",
       "      <td>0.000000</td>\n",
       "    </tr>\n",
       "    <tr>\n",
       "      <th>2</th>\n",
       "      <td>1</td>\n",
       "      <td>0</td>\n",
       "      <td>H</td>\n",
       "      <td>0.0</td>\n",
       "      <td>0.0</td>\n",
       "      <td>0.000000</td>\n",
       "    </tr>\n",
       "    <tr>\n",
       "      <th>3</th>\n",
       "      <td>0</td>\n",
       "      <td>0</td>\n",
       "      <td>D</td>\n",
       "      <td>0.0</td>\n",
       "      <td>0.0</td>\n",
       "      <td>0.000000</td>\n",
       "    </tr>\n",
       "    <tr>\n",
       "      <th>4</th>\n",
       "      <td>3</td>\n",
       "      <td>1</td>\n",
       "      <td>H</td>\n",
       "      <td>3.0</td>\n",
       "      <td>0.0</td>\n",
       "      <td>3.000000</td>\n",
       "    </tr>\n",
       "  </tbody>\n",
       "</table>\n",
       "</div>"
      ],
      "text/plain": [
       "   FTHG  FTAG FTR  HTHG  HTAG      Form\n",
       "0     1     3   A   0.0   0.0  0.333333\n",
       "1     1     0   H   1.0   0.0  0.000000\n",
       "2     1     0   H   0.0   0.0  0.000000\n",
       "3     0     0   D   0.0   0.0  0.000000\n",
       "4     3     1   H   3.0   0.0  3.000000"
      ]
     },
     "execution_count": 10,
     "metadata": {},
     "output_type": "execute_result"
    }
   ],
   "source": [
    "data.head()"
   ]
  },
  {
   "cell_type": "code",
   "execution_count": 11,
   "metadata": {},
   "outputs": [
    {
     "data": {
      "text/plain": [
       "FTHG    0\n",
       "FTAG    0\n",
       "FTR     0\n",
       "HTHG    1\n",
       "HTAG    1\n",
       "Form    0\n",
       "dtype: int64"
      ]
     },
     "execution_count": 11,
     "metadata": {},
     "output_type": "execute_result"
    }
   ],
   "source": [
    "data.isna().sum()"
   ]
  },
  {
   "cell_type": "code",
   "execution_count": 12,
   "metadata": {},
   "outputs": [
    {
     "data": {
      "text/html": [
       "<div>\n",
       "<style scoped>\n",
       "    .dataframe tbody tr th:only-of-type {\n",
       "        vertical-align: middle;\n",
       "    }\n",
       "\n",
       "    .dataframe tbody tr th {\n",
       "        vertical-align: top;\n",
       "    }\n",
       "\n",
       "    .dataframe thead th {\n",
       "        text-align: right;\n",
       "    }\n",
       "</style>\n",
       "<table border=\"1\" class=\"dataframe\">\n",
       "  <thead>\n",
       "    <tr style=\"text-align: right;\">\n",
       "      <th></th>\n",
       "      <th>FTHG</th>\n",
       "      <th>FTAG</th>\n",
       "      <th>FTR</th>\n",
       "      <th>HTHG</th>\n",
       "      <th>HTAG</th>\n",
       "      <th>Form</th>\n",
       "    </tr>\n",
       "  </thead>\n",
       "  <tbody>\n",
       "    <tr>\n",
       "      <th>293</th>\n",
       "      <td>0</td>\n",
       "      <td>3</td>\n",
       "      <td>A</td>\n",
       "      <td>NaN</td>\n",
       "      <td>NaN</td>\n",
       "      <td>0.0</td>\n",
       "    </tr>\n",
       "  </tbody>\n",
       "</table>\n",
       "</div>"
      ],
      "text/plain": [
       "     FTHG  FTAG FTR  HTHG  HTAG  Form\n",
       "293     0     3   A   NaN   NaN   0.0"
      ]
     },
     "execution_count": 12,
     "metadata": {},
     "output_type": "execute_result"
    }
   ],
   "source": [
    "data.loc[data.isnull().any(axis=1)]"
   ]
  },
  {
   "cell_type": "code",
   "execution_count": 13,
   "metadata": {},
   "outputs": [],
   "source": [
    "# Create a boolean mask for rows with NaN values\n",
    "mask = data.isnull().any(axis=1)\n",
    "\n",
    "# Delete rows using the mask\n",
    "data = data[~mask]"
   ]
  },
  {
   "cell_type": "code",
   "execution_count": 14,
   "metadata": {},
   "outputs": [],
   "source": [
    "data['FTR'] = data['FTR'].map({'H':0,'D':1,'A':2})"
   ]
  },
  {
   "cell_type": "code",
   "execution_count": 15,
   "metadata": {},
   "outputs": [],
   "source": [
    "#adding .values for the neural network\n",
    "X=data.drop(\"FTR\", axis=1).values\n",
    "Y=data[\"FTR\"].values"
   ]
  },
  {
   "cell_type": "code",
   "execution_count": 16,
   "metadata": {},
   "outputs": [
    {
     "data": {
      "text/plain": [
       "(15743, 5)"
      ]
     },
     "execution_count": 16,
     "metadata": {},
     "output_type": "execute_result"
    }
   ],
   "source": [
    "X.shape"
   ]
  },
  {
   "cell_type": "code",
   "execution_count": 17,
   "metadata": {},
   "outputs": [
    {
     "data": {
      "text/plain": [
       "(15743,)"
      ]
     },
     "execution_count": 17,
     "metadata": {},
     "output_type": "execute_result"
    }
   ],
   "source": [
    "Y.shape"
   ]
  },
  {
   "cell_type": "code",
   "execution_count": 18,
   "metadata": {},
   "outputs": [],
   "source": [
    "from sklearn.preprocessing import StandardScaler\n",
    "# Scale data to have mean 0 and variance 1 \n",
    "# which is importance for convergence of the neural network\n",
    "scaler = StandardScaler()\n",
    "X_scaled = scaler.fit_transform(X)"
   ]
  },
  {
   "cell_type": "code",
   "execution_count": 19,
   "metadata": {},
   "outputs": [],
   "source": [
    "# Split the data to train and test dataset.\n",
    "import sklearn\n",
    "from sklearn.model_selection import train_test_split\n",
    "X_train, X_test, y_train, y_test = train_test_split(X_scaled, Y, test_size=0.2)"
   ]
  },
  {
   "cell_type": "code",
   "execution_count": 20,
   "metadata": {},
   "outputs": [],
   "source": [
    "import torch\n",
    "import torch.nn.functional as F\n",
    "import torch.nn as nn\n",
    "from torch.autograd import Variable"
   ]
  },
  {
   "cell_type": "code",
   "execution_count": 21,
   "metadata": {},
   "outputs": [],
   "source": [
    "X_train = torch.FloatTensor(X_train)\n",
    "X_test = torch.FloatTensor(X_test)\n",
    "y_train = torch.LongTensor(y_train)\n",
    "y_test = torch.LongTensor(y_test)"
   ]
  },
  {
   "cell_type": "code",
   "execution_count": 22,
   "metadata": {},
   "outputs": [],
   "source": [
    "class NeuralNetworkClassificationModel(nn.Module):\n",
    "    def __init__(self,input_dim,output_dim):\n",
    "        super(NeuralNetworkClassificationModel,self).__init__()\n",
    "        self.input_layer    = nn.Linear(input_dim,32)\n",
    "        self.hidden_layer1  = nn.Linear(32,64)\n",
    "        self.output_layer   = nn.Linear(64,output_dim)\n",
    "        self.relu = nn.ReLU()\n",
    "    \n",
    "    \n",
    "    def forward(self,x):\n",
    "        out =  self.relu(self.input_layer(x))\n",
    "        out =  self.relu(self.hidden_layer1(out))\n",
    "        out =  self.output_layer(out)\n",
    "        return out"
   ]
  },
  {
   "cell_type": "code",
   "execution_count": 23,
   "metadata": {},
   "outputs": [],
   "source": [
    "input_dim  = 5\n",
    "output_dim = 3\n",
    "model = NeuralNetworkClassificationModel(input_dim,output_dim)"
   ]
  },
  {
   "cell_type": "code",
   "execution_count": 24,
   "metadata": {},
   "outputs": [],
   "source": [
    "learning_rate = 0.001\n",
    "criterion = nn.CrossEntropyLoss()\n",
    "optimizer = torch.optim.Adam(model.parameters(),lr=learning_rate)"
   ]
  },
  {
   "cell_type": "code",
   "execution_count": 25,
   "metadata": {},
   "outputs": [],
   "source": [
    "def train_network(model,optimizer,criterion,X_train,y_train,X_test,y_test,num_epochs,train_losses,test_losses):\n",
    "    for epoch in range(num_epochs):\n",
    "        #clear out the gradients from the last step loss.backward()\n",
    "        optimizer.zero_grad()\n",
    "        \n",
    "        #forward feed\n",
    "        output_train = model(X_train)\n",
    "\n",
    "        #calculate the loss\n",
    "        loss_train = criterion(output_train, y_train)\n",
    "        \n",
    "\n",
    "\n",
    "        #backward propagation: calculate gradients\n",
    "        loss_train.backward()\n",
    "\n",
    "        #update the weights\n",
    "        optimizer.step()\n",
    "\n",
    "        \n",
    "        output_test = model(X_test)\n",
    "        loss_test = criterion(output_test,y_test)\n",
    "\n",
    "        train_losses[epoch] = loss_train.item()\n",
    "        test_losses[epoch] = loss_test.item()\n",
    "\n",
    "        if (epoch + 1) % 50 == 0:\n",
    "            print(f\"Epoch {epoch+1}/{num_epochs}, Train Loss: {loss_train.item():.7f}, Test Loss: {loss_test.item():.7f}\")\n"
   ]
  },
  {
   "cell_type": "code",
   "execution_count": 26,
   "metadata": {},
   "outputs": [],
   "source": [
    "num_epochs = 1000\n",
    "train_losses = np.zeros(num_epochs)\n",
    "test_losses  = np.zeros(num_epochs)"
   ]
  },
  {
   "cell_type": "code",
   "execution_count": 27,
   "metadata": {},
   "outputs": [
    {
     "name": "stdout",
     "output_type": "stream",
     "text": [
      "Epoch 50/1000, Train Loss: 0.6201188, Test Loss: 0.6232799\n",
      "Epoch 100/1000, Train Loss: 0.2537715, Test Loss: 0.2563518\n",
      "Epoch 150/1000, Train Loss: 0.0749219, Test Loss: 0.0754861\n",
      "Epoch 200/1000, Train Loss: 0.0256117, Test Loss: 0.0259690\n",
      "Epoch 250/1000, Train Loss: 0.0122475, Test Loss: 0.0124579\n",
      "Epoch 300/1000, Train Loss: 0.0071429, Test Loss: 0.0072702\n",
      "Epoch 350/1000, Train Loss: 0.0046962, Test Loss: 0.0047833\n",
      "Epoch 400/1000, Train Loss: 0.0033317, Test Loss: 0.0033967\n",
      "Epoch 450/1000, Train Loss: 0.0024869, Test Loss: 0.0025368\n",
      "Epoch 500/1000, Train Loss: 0.0019265, Test Loss: 0.0019655\n",
      "Epoch 550/1000, Train Loss: 0.0015027, Test Loss: 0.0015343\n",
      "Epoch 600/1000, Train Loss: 0.0012098, Test Loss: 0.0012354\n",
      "Epoch 650/1000, Train Loss: 0.0010009, Test Loss: 0.0010219\n",
      "Epoch 700/1000, Train Loss: 0.0008424, Test Loss: 0.0008594\n",
      "Epoch 750/1000, Train Loss: 0.0007183, Test Loss: 0.0007317\n",
      "Epoch 800/1000, Train Loss: 0.0006195, Test Loss: 0.0006303\n",
      "Epoch 850/1000, Train Loss: 0.0005395, Test Loss: 0.0005483\n",
      "Epoch 900/1000, Train Loss: 0.0004740, Test Loss: 0.0004810\n",
      "Epoch 950/1000, Train Loss: 0.0004194, Test Loss: 0.0004252\n",
      "Epoch 1000/1000, Train Loss: 0.0003734, Test Loss: 0.0003782\n"
     ]
    }
   ],
   "source": [
    "train_network(model,optimizer,criterion,X_train,y_train,X_test,y_test,num_epochs,train_losses,test_losses)"
   ]
  },
  {
   "cell_type": "code",
   "execution_count": 28,
   "metadata": {},
   "outputs": [
    {
     "data": {
      "image/png": "[encoded data removed]",
      "text/plain": [
       "<Figure size 1000x1000 with 1 Axes>"
      ]
     },
     "metadata": {},
     "output_type": "display_data"
    }
   ],
   "source": [
    "plt.figure(figsize=(10,10))\n",
    "plt.plot(train_losses, label='train loss')\n",
    "plt.plot(test_losses, label='test loss')\n",
    "plt.legend()\n",
    "plt.show()"
   ]
  },
  {
   "cell_type": "code",
   "execution_count": 29,
   "metadata": {},
   "outputs": [],
   "source": [
    "predictions_train = []\n",
    "predictions_test =  []\n",
    "with torch.no_grad():\n",
    "    predictions_train = model(X_train)\n",
    "    predictions_test = model(X_test)"
   ]
  },
  {
   "cell_type": "code",
   "execution_count": 30,
   "metadata": {},
   "outputs": [],
   "source": [
    "def get_accuracy_multiclass(pred_arr,original_arr):\n",
    "    if len(pred_arr)!=len(original_arr):\n",
    "        return False\n",
    "    pred_arr = pred_arr.numpy()\n",
    "    original_arr = original_arr.numpy()\n",
    "    final_pred= []\n",
    "    # we will get something like this in the pred_arr [32.1680,12.9350,-58.4877]\n",
    "    # so will be taking the index of that argument which has the highest value here 32.1680 which corresponds to 0th index\n",
    "    for i in range(len(pred_arr)):\n",
    "        final_pred.append(np.argmax(pred_arr[i]))\n",
    "    final_pred = np.array(final_pred)\n",
    "    count = 0\n",
    "    #here we are doing a simple comparison between the predicted_arr and the original_arr to get the final accuracy\n",
    "    for i in range(len(original_arr)):\n",
    "        if final_pred[i] == original_arr[i]:\n",
    "            count+=1\n",
    "    return count/len(final_pred)"
   ]
  },
  {
   "cell_type": "code",
   "execution_count": 31,
   "metadata": {},
   "outputs": [],
   "source": [
    "train_acc = get_accuracy_multiclass(predictions_train,y_train)\n",
    "test_acc  = get_accuracy_multiclass(predictions_test,y_test)"
   ]
  },
  {
   "cell_type": "code",
   "execution_count": 32,
   "metadata": {},
   "outputs": [
    {
     "name": "stdout",
     "output_type": "stream",
     "text": [
      "Training Accuracy: 100.0\n",
      "Test Accuracy: 100.0\n"
     ]
    }
   ],
   "source": [
    "print(f\"Training Accuracy: {round(train_acc*100,3)}\")\n",
    "print(f\"Test Accuracy: {round(test_acc*100,3)}\")"
   ]
  },
  {
   "cell_type": "code",
   "execution_count": 60,
   "metadata": {},
   "outputs": [],
   "source": [
    "#[\"FTHG\",\"FTAG\",\"HTHG\",\"HTAG\",\"Form\",\"B365H\",\"B365D\",\"B365A\"]\n",
    "X_new = np.array([[1.08,1.08,1.00,1.60,1.00]])\n",
    "\n",
    "\n",
    "X_net = torch.FloatTensor(X_new)"
   ]
  },
  {
   "cell_type": "code",
   "execution_count": 39,
   "metadata": {},
   "outputs": [
    {
     "name": "stdout",
     "output_type": "stream",
     "text": [
      "Prediction of Games: tensor([[ 5.3794,  2.0572, -9.5393]])\n"
     ]
    }
   ],
   "source": [
    "from sklearn import preprocessing\n",
    "\n",
    "\n",
    "torch.manual_seed(42)\n",
    "# During inference or evaluation, apply softmax to obtain class probabilities\n",
    "model.eval()\n",
    "with torch.no_grad():\n",
    "    prediction = model(X_net)\n",
    "\n",
    "  # prediction = preprocessing.scale(prediction)\n",
    "\n",
    "    print(\"Prediction of Games: {}\".format(prediction))\n",
    "\n",
    "    "
   ]
  },
  {
   "cell_type": "code",
   "execution_count": 61,
   "metadata": {},
   "outputs": [],
   "source": [
    "import pickle\n",
    "\n",
    "# Create Pickle file from the Neural network Model\n",
    "with open('neuralnet.pickle', 'wb') as dump_var:\n",
    "    pickle.dump(data, dump_var)"
   ]
  },
  {
   "cell_type": "code",
   "execution_count": 62,
   "metadata": {},
   "outputs": [],
   "source": [
    "def load_model():\n",
    "    with open('neuralnet.pickle','rb') as file:\n",
    "        modelTEST=pickle.load(file)\n",
    "        \n",
    "    return modelTEST"
   ]
  },
  {
   "cell_type": "code",
   "execution_count": 63,
   "metadata": {},
   "outputs": [],
   "source": [
    "tester = load_model()"
   ]
  },
  {
   "cell_type": "code",
   "execution_count": 65,
   "metadata": {},
   "outputs": [],
   "source": [
    "data = {'NN': tester}"
   ]
  },
  {
   "cell_type": "code",
   "execution_count": 69,
   "metadata": {},
   "outputs": [
    {
     "ename": "TypeError",
     "evalue": "'dict' object is not callable",
     "output_type": "error",
     "traceback": [
      "\u001b[1;31m---------------------------------------------------------------------------\u001b[0m",
      "\u001b[1;31mTypeError\u001b[0m                                 Traceback (most recent call last)",
      "\u001b[1;32mc:\\Users\\USER\\Wayne\\Rolvaag\\NEURALNET.ipynb Cell 39\u001b[0m line \u001b[0;36m8\n\u001b[0;32m      <a href='vscode-notebook-cell:/c%3A/Users/USER/Wayne/Rolvaag/NEURALNET.ipynb#X52sZmlsZQ%3D%3D?line=5'>6</a>\u001b[0m model\u001b[39m.\u001b[39meval()\n\u001b[0;32m      <a href='vscode-notebook-cell:/c%3A/Users/USER/Wayne/Rolvaag/NEURALNET.ipynb#X52sZmlsZQ%3D%3D?line=6'>7</a>\u001b[0m \u001b[39mwith\u001b[39;00m torch\u001b[39m.\u001b[39mno_grad():\n\u001b[1;32m----> <a href='vscode-notebook-cell:/c%3A/Users/USER/Wayne/Rolvaag/NEURALNET.ipynb#X52sZmlsZQ%3D%3D?line=7'>8</a>\u001b[0m     prediction \u001b[39m=\u001b[39m data(X_net)\n\u001b[0;32m     <a href='vscode-notebook-cell:/c%3A/Users/USER/Wayne/Rolvaag/NEURALNET.ipynb#X52sZmlsZQ%3D%3D?line=9'>10</a>\u001b[0m   \u001b[39m# prediction = preprocessing.scale(prediction)\u001b[39;00m\n\u001b[0;32m     <a href='vscode-notebook-cell:/c%3A/Users/USER/Wayne/Rolvaag/NEURALNET.ipynb#X52sZmlsZQ%3D%3D?line=11'>12</a>\u001b[0m     \u001b[39mprint\u001b[39m(\u001b[39m\"\u001b[39m\u001b[39mPrediction of Games: \u001b[39m\u001b[39m{}\u001b[39;00m\u001b[39m\"\u001b[39m\u001b[39m.\u001b[39mformat(prediction))\n",
      "\u001b[1;31mTypeError\u001b[0m: 'dict' object is not callable"
     ]
    }
   ],
   "source": [
    "from sklearn import preprocessing\n",
    "\n",
    "\n",
    "torch.manual_seed(42)\n",
    "# During inference or evaluation, apply softmax to obtain class probabilities\n",
    "model.eval()\n",
    "with torch.no_grad():\n",
    "    prediction = data(X_net)\n",
    "\n",
    "  # prediction = preprocessing.scale(prediction)\n",
    "\n",
    "    print(\"Prediction of Games: {}\".format(prediction))\n",
    "\n",
    "    "
   ]
  }
 ],
 "metadata": {
  "kernelspec": {
   "display_name": "Rolvaag",
   "language": "python",
   "name": "python3"
  },
  "language_info": {
   "codemirror_mode": {
    "name": "ipython",
    "version": 3
   },
   "file_extension": ".py",
   "mimetype": "text/x-python",
   "name": "python",
   "nbconvert_exporter": "python",
   "pygments_lexer": "ipython3",
   "version": "3.11.5"
  }
 },
 "nbformat": 4,
 "nbformat_minor": 2
}
