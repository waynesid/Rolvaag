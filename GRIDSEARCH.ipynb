{
 "cells": [
  {
   "cell_type": "code",
   "execution_count": 1,
   "metadata": {},
   "outputs": [
    {
     "name": "stdout",
     "output_type": "stream",
     "text": [
      "Libraries Imported\n"
     ]
    }
   ],
   "source": [
    "#Importing Libraries\n",
    "import numpy as np\n",
    "import pandas as pd\n",
    "import joblib\n",
    "import sklearn\n",
    "from sklearn.model_selection import train_test_split\n",
    "from sklearn.preprocessing import StandardScaler\n",
    "from sklearn.ensemble import RandomForestClassifier\n",
    "from sklearn.metrics import confusion_matrix\n",
    "print('Libraries Imported')"
   ]
  },
  {
   "cell_type": "code",
   "execution_count": 2,
   "metadata": {},
   "outputs": [
    {
     "name": "stdout",
     "output_type": "stream",
     "text": [
      "<class 'pandas.core.frame.DataFrame'>\n",
      "Index: 21108 entries, 0 to 379\n",
      "Columns: 139 entries, Div to BSA\n",
      "dtypes: float64(129), int64(2), object(8)\n",
      "memory usage: 22.5+ MB\n"
     ]
    }
   ],
   "source": [
    "import numpy as np\n",
    "import pandas as pd\n",
    "import matplotlib.pyplot as plt\n",
    "\n",
    "\n",
    "#load the team related datasets into the notebook and save them as dataframes\n",
    "def country_df(csv):\n",
    "  df = pd.read_csv(csv)\n",
    "  df.sort_values('HomeTeam', inplace=True)\n",
    "  df.reset_index(inplace=True)\n",
    "  df.drop(\"index\", axis =1 , inplace=True)\n",
    "\n",
    "  return df\n",
    "\n",
    "df_france = country_df('FootballData/F1.csv')\n",
    "df_spain  = country_df('FootballData/SP1.csv')\n",
    "df_england  = country_df('FootballData/E0.csv')\n",
    "df_championship  = country_df('FootballData/E1.csv')\n",
    "#df_finland  = country_df('/content/drive/MyDrive/FootballData/FIN.csv')\n",
    "#df_germany = country_df('FootballData/D1.csv')\n",
    "df_england_22 = country_df('FootballData/E0_22.csv')\n",
    "df_spa_22 = country_df('FootballData/SP1_22.csv')\n",
    "#df_jpn = country_df('FootballData/JPN.csv')\n",
    "df_ita = country_df('FootballData/I1.csv')\n",
    "df_E1 = country_df('FootballData/E1.csv')\n",
    "df_E2 = country_df('FootballData/E2.csv')\n",
    "df_E3 = country_df('FootballData/E3.csv')\n",
    "df_EC = country_df('FootballData/EC.csv')\n",
    "df_F2 = country_df('FootballData/F2.csv')\n",
    "df_I2 = country_df('FootballData/I2.csv')\n",
    "df_dataE0 = country_df('FootballData/data (9)/E0.csv')\n",
    "df_dataE1 = country_df('FootballData/data (9)/E1.csv')\n",
    "df_dataE2 = country_df('FootballData/data (9)/E2.csv')\n",
    "df_dataE3 = country_df('FootballData/data (9)/E3.csv')\n",
    "df_dataEC = country_df('FootballData/data (9)/EC.csv')\n",
    "df_dataF2 = country_df('FootballData/data (9)/F2.csv')\n",
    "df_dataG1 = country_df('FootballData/data (9)/G1.csv')\n",
    "df_dataN1 = country_df('FootballData/data (9)/N1.csv')\n",
    "df_dataP1 = country_df('FootballData/data (9)/P1.csv')\n",
    "df_dataSC0 = country_df('FootballData/data (9)/SC0.csv')\n",
    "df_dataSC1 = country_df('FootballData/data (9)/SC1.csv')\n",
    "df_dataSC2 = country_df('FootballData/data (9)/SC2.csv')\n",
    "df_dataSC3 = country_df('FootballData/data (9)/SC3.csv')\n",
    "df_dataSP2 = country_df('FootballData/data (9)/SP2.csv')\n",
    "df_dataSP1 = country_df('FootballData/data (9)/SP1.csv')\n",
    "df_dataT1 = country_df('FootballData/data (9)/T1.csv')\n",
    "\n",
    "df_data8E0 = country_df('FootballData/data (8)/E0.csv')\n",
    "df_data8E1 = country_df('FootballData/data (8)/E1.csv')\n",
    "df_data8E2 = country_df('FootballData/data (8)/E2.csv')\n",
    "df_data8E3 = country_df('FootballData/data (8)/E3.csv')\n",
    "df_data8EC = country_df('FootballData/data (8)/EC.csv')\n",
    "#df_data8F2 = country_df('FootballData/data (8)/F2.csv')\n",
    "df_data8G1 = country_df('FootballData/data (8)/G1.csv')\n",
    "#df_data8N1 = country_df('FootballData/data (8)/N1.csv')\n",
    "#df_data8P1 = country_df('FootballData/data (8)/P1.csv')\n",
    "df_data8SC0 = country_df('FootballData/data (8)/SC0.csv')\n",
    "df_data8SC1 = country_df('FootballData/data (8)/SC1.csv')\n",
    "df_data8SC2 = country_df('FootballData/data (8)/SC2.csv')\n",
    "df_data8SC3 = country_df('FootballData/data (8)/SC3.csv')\n",
    "#df_data8SP2 = country_df('FootballData/data (8)/SP2.csv')\n",
    "df_data8SP1 = country_df('FootballData/data (8)/SP1.csv')\n",
    "df_data8T1 = country_df('FootballData/data (8)/T1.csv')\n",
    "\n",
    "\n",
    "df_data7E0 = country_df('FootballData/data (7)/E0.csv')\n",
    "df_data7E1 = country_df('FootballData/data (7)/E1.csv')\n",
    "df_data7E2 = country_df('FootballData/data (7)/E2.csv')\n",
    "df_data7E3 = country_df('FootballData/data (7)/E3.csv')\n",
    "df_data7EC = country_df('FootballData/data (7)/EC.csv')\n",
    "df_data7F2 = country_df('FootballData/data (7)/F2.csv')\n",
    "df_data7G1 = country_df('FootballData/data (7)/G1.csv')\n",
    "df_data7N1 = country_df('FootballData/data (7)/N1.csv')\n",
    "df_data7P1 = country_df('FootballData/data (7)/P1.csv')\n",
    "df_data7SC0 = country_df('FootballData/data (7)/SC0.csv')\n",
    "df_data7SC1 = country_df('FootballData/data (7)/SC1.csv')\n",
    "df_data7SC2 = country_df('FootballData/data (7)/SC2.csv')\n",
    "df_data7SC3 = country_df('FootballData/data (7)/SC3.csv')\n",
    "df_data7SP2 = country_df('FootballData/data (7)/SP2.csv')\n",
    "df_data7SP1 = country_df('FootballData/data (7)/SP1.csv')\n",
    "#df_data7T1 = country_df('FootballData/data (7)/T1.csv')\n",
    "\n",
    "\n",
    "\n",
    "\n",
    "data = pd.concat([df_france, df_spain, df_england, df_championship, df_england_22, df_spa_22, df_ita,df_E1,df_E2,df_E3,df_EC,df_F2,df_I2,df_dataE0,df_dataE1,df_dataE2,df_dataE3,df_dataEC,df_dataF2,df_dataG1,df_dataN1,df_dataP1,df_dataSC0,df_dataSC1,df_dataSC2,df_dataSC3,df_dataSP1,df_dataSP2,df_dataT1,\n",
    "                  df_data8E0,df_data8E1,df_data8E2,df_data8E3,df_data8EC,df_data8G1,df_data8SC0,df_data8SC1,df_data8SC2,df_data8SC3,df_data8SP1,df_data8T1,\n",
    "                  df_data7E0,df_data7E1,df_data7E2,df_data7E3,df_data7EC,df_data7G1,df_data7SC0,df_data7SC1,df_data7SC2,df_data7SC3,df_data7SP1,df_data7SP2,df_data7P1,df_data7N1,df_data7F2], sort = False)\n",
    "\n",
    "data.info()\n",
    "columns =[\"FTHG\",\"FTAG\",\"HST\",\"AST\",\"HS\",\"AS\",\"B365H\",\"B365D\",\"B365A\",\"HY\",\"AY\",\"FTR\"] \n",
    "data = data[columns]\n",
    "\n",
    "for i in data.columns[data.isnull().any(axis=0)]:     #---Applying Only on variables with NaN values\n",
    "    data[i].fillna(data[i].mean(),inplace=True)\n",
    "\n",
    "#data['FTR'] = data['FTR'].map({'H':0,'D':1,'A':2})\n",
    "\n",
    "# Create a boolean mask for rows with NaN values\n",
    "#mask = data.isnull().any(axis=1)\n",
    "\n",
    "# Delete rows using the mask\n",
    "#data = data[~mask]"
   ]
  },
  {
   "cell_type": "code",
   "execution_count": 3,
   "metadata": {},
   "outputs": [
    {
     "name": "stdout",
     "output_type": "stream",
     "text": [
      "<class 'pandas.core.frame.DataFrame'>\n",
      "Index: 21108 entries, 0 to 379\n",
      "Data columns (total 12 columns):\n",
      " #   Column  Non-Null Count  Dtype  \n",
      "---  ------  --------------  -----  \n",
      " 0   FTHG    21108 non-null  int64  \n",
      " 1   FTAG    21108 non-null  int64  \n",
      " 2   HST     21108 non-null  float64\n",
      " 3   AST     21108 non-null  float64\n",
      " 4   HS      21108 non-null  float64\n",
      " 5   AS      21108 non-null  float64\n",
      " 6   B365H   21108 non-null  float64\n",
      " 7   B365D   21108 non-null  float64\n",
      " 8   B365A   21108 non-null  float64\n",
      " 9   HY      21108 non-null  float64\n",
      " 10  AY      21108 non-null  float64\n",
      " 11  FTR     21108 non-null  object \n",
      "dtypes: float64(9), int64(2), object(1)\n",
      "memory usage: 2.1+ MB\n"
     ]
    }
   ],
   "source": [
    "data.info()"
   ]
  },
  {
   "cell_type": "code",
   "execution_count": 4,
   "metadata": {},
   "outputs": [
    {
     "data": {
      "text/plain": [
       "FTR\n",
       "H    9498\n",
       "A    6009\n",
       "D    5601\n",
       "Name: count, dtype: int64"
      ]
     },
     "execution_count": 4,
     "metadata": {},
     "output_type": "execute_result"
    }
   ],
   "source": [
    "data.FTR.value_counts()"
   ]
  },
  {
   "cell_type": "code",
   "execution_count": 5,
   "metadata": {},
   "outputs": [
    {
     "data": {
      "text/plain": [
       "0    A\n",
       "1    H\n",
       "2    H\n",
       "3    D\n",
       "4    H\n",
       "Name: FTR, dtype: object"
      ]
     },
     "execution_count": 5,
     "metadata": {},
     "output_type": "execute_result"
    }
   ],
   "source": [
    "data['FTR'].head()"
   ]
  },
  {
   "cell_type": "code",
   "execution_count": 6,
   "metadata": {},
   "outputs": [
    {
     "name": "stdout",
     "output_type": "stream",
     "text": [
      "['A' 'D' 'H']\n",
      "0      0\n",
      "1      2\n",
      "2      2\n",
      "3      1\n",
      "4      2\n",
      "      ..\n",
      "375    0\n",
      "376    1\n",
      "377    2\n",
      "378    0\n",
      "379    2\n",
      "Name: FTR, Length: 21108, dtype: int32\n"
     ]
    }
   ],
   "source": [
    "# Import the module\n",
    "from sklearn.preprocessing import LabelEncoder\n",
    "\n",
    "# Create an instance of the class\n",
    "le = LabelEncoder()\n",
    "\n",
    "# Fit the encoder on the column\n",
    "le.fit(['A', 'H', 'D'])\n",
    "\n",
    "# Check the classes and their corresponding labels\n",
    "print(le.classes_)\n",
    "# Output: array(['A', 'D', 'H'], dtype='<U1')\n",
    "\n",
    "# Transform the column into numerical labels\n",
    "data['FTR'] = le.transform(data['FTR'])\n",
    "print(data['FTR'])\n",
    "# Output: array([2, 0, 1, 1, 2, ...])\n",
    "\n"
   ]
  },
  {
   "cell_type": "code",
   "execution_count": 7,
   "metadata": {},
   "outputs": [
    {
     "name": "stdout",
     "output_type": "stream",
     "text": [
      "The independent features set: \n",
      "[[ 1.    3.    3.    4.    5.    8.    5.    3.3   1.61  1.    3.  ]\n",
      " [ 1.    0.    2.    2.   10.   12.    3.    2.87  2.3   2.    1.  ]\n",
      " [ 1.    0.    8.    3.   16.    7.    2.2   2.75  3.4   0.    0.  ]\n",
      " [ 0.    0.    7.    5.   15.   10.    1.9   2.87  4.2   2.    4.  ]\n",
      " [ 3.    1.    3.    0.    6.    2.    2.4   3.    2.7   2.    2.  ]\n",
      " [ 0.    0.    5.    2.   10.    8.    2.    2.75  4.    1.    2.  ]\n",
      " [ 0.    2.    2.    5.    8.    9.    3.    2.75  2.4   0.    0.  ]\n",
      " [ 3.    1.    5.    4.   17.    7.    3.4   3.    2.2   1.    3.  ]\n",
      " [ 0.    1.    2.    6.   13.   13.    2.2   2.87  3.2   0.    1.  ]\n",
      " [ 0.    1.    4.    2.   10.    5.    2.25  2.8   3.2   1.    3.  ]\n",
      " [ 1.    1.    3.    1.    4.    5.    3.4   2.8   2.1   0.    1.  ]]\n",
      "The dependent variable: \n",
      "[0 2 2 1 2 1 0 2 0 0 1]\n"
     ]
    }
   ],
   "source": [
    "#Splitting the data into independent and dependent variables\n",
    "X = data.iloc[:,0:11].values\n",
    "y = data.iloc[:,11].values\n",
    "print('The independent features set: ')\n",
    "print(X[:11,:])\n",
    "print('The dependent variable: ')\n",
    "print(y[:11])"
   ]
  },
  {
   "cell_type": "code",
   "execution_count": 8,
   "metadata": {},
   "outputs": [],
   "source": [
    "# Split the data to train and test dataset.\n",
    "from sklearn.model_selection import train_test_split\n",
    "sample_weight = np.random.RandomState(42).rand(y.shape[0])\n",
    "X_train, X_test, y_train, y_test = train_test_split(X, y, test_size=0.9,shuffle=True,random_state=42)"
   ]
  },
  {
   "cell_type": "code",
   "execution_count": 9,
   "metadata": {},
   "outputs": [],
   "source": [
    "# Feature Scaling\n",
    "scaler = StandardScaler()\n",
    "X_train = scaler.fit_transform(X_train)\n",
    "X_test = scaler.transform(X_test)"
   ]
  },
  {
   "cell_type": "code",
   "execution_count": 10,
   "metadata": {},
   "outputs": [
    {
     "name": "stdout",
     "output_type": "stream",
     "text": [
      "Fitting 5 folds for each of 128 candidates, totalling 640 fits\n"
     ]
    },
    {
     "name": "stdout",
     "output_type": "stream",
     "text": [
      "Best parameters: {'bootstrap': False, 'criterion': 'gini', 'max_depth': None, 'max_features': 'sqrt', 'n_estimators': 100}\n",
      "Best score: 0.9938388625592417\n"
     ]
    }
   ],
   "source": [
    "# Import the GridSearchCV class\n",
    "from sklearn.model_selection import GridSearchCV\n",
    "\n",
    "# Define the parameter grid to search over\n",
    "param_grid = {\n",
    "    'n_estimators': [100, 500, 1000, 1500], # Number of trees in the forest\n",
    "    'criterion': ['gini', 'entropy'], # Function to measure the quality of a split\n",
    "    'max_depth': [None, 5, 10, 15], # Maximum depth of the tree\n",
    "    'max_features': ['sqrt', 'log2'], # Number of features to consider at each split\n",
    "    'bootstrap': [True, False] # Whether to use bootstrap samples when building trees\n",
    "}\n",
    "\n",
    "# Create a GridSearchCV object with the random forest classifier and the parameter grid\n",
    "grid_search = GridSearchCV(RandomForestClassifier(random_state=42), param_grid, cv=5, scoring='accuracy', n_jobs=-1, verbose=1)\n",
    "\n",
    "# Fit the grid search on the training data\n",
    "grid_search.fit(X_train, y_train)\n",
    "\n",
    "# Print the best parameters and the best score\n",
    "print('Best parameters:', grid_search.best_params_)\n",
    "print('Best score:', grid_search.best_score_)\n"
   ]
  },
  {
   "cell_type": "code",
   "execution_count": 11,
   "metadata": {},
   "outputs": [
    {
     "name": "stdout",
     "output_type": "stream",
     "text": [
      "Predicted Results     A     D     H\n",
      "Actual Results                     \n",
      "A                  5393     4     3\n",
      "D                    32  4997    32\n",
      "H                     5    46  8486\n"
     ]
    }
   ],
   "source": [
    "# Predicting the Test set results\n",
    "y_pred = grid_search.predict(X_test)\n",
    "#Reverse factorize (converting y_pred from 0s,1s and 2s to Home, Draw and Away wins\n",
    "# Inverse transform the predictions and the test labels\n",
    "y_pred = le.inverse_transform(y_pred)\n",
    "y_test = le.inverse_transform(y_test)\n",
    "# Making the Confusion Matrix\n",
    "print(pd.crosstab(y_test, y_pred, rownames=['Actual Results'], colnames=['Predicted Results']))"
   ]
  },
  {
   "cell_type": "code",
   "execution_count": 12,
   "metadata": {},
   "outputs": [
    {
     "name": "stdout",
     "output_type": "stream",
     "text": [
      "[('FTHG',), ('FTAG',), ('HST',), ('AST',), ('HS',), ('AS',), ('B365H',), ('B365D',), ('B365A',), ('HY',), ('AY',)]\n"
     ]
    },
    {
     "data": {
      "text/plain": [
       "['gridsearchCV.pkl']"
      ]
     },
     "execution_count": 12,
     "metadata": {},
     "output_type": "execute_result"
    }
   ],
   "source": [
    "print(list(zip(data.columns[0:11])))\n",
    "joblib.dump(grid_search, 'gridsearchCV.pkl') "
   ]
  },
  {
   "cell_type": "code",
   "execution_count": 13,
   "metadata": {},
   "outputs": [
    {
     "name": "stdout",
     "output_type": "stream",
     "text": [
      "Predicted result: ['D']\n"
     ]
    },
    {
     "name": "stderr",
     "output_type": "stream",
     "text": [
      "c:\\Users\\USER\\Wayne\\Rolvaag\\.venv\\Lib\\site-packages\\sklearn\\base.py:458: UserWarning: X has feature names, but RandomForestClassifier was fitted without feature names\n",
      "  warnings.warn(\n"
     ]
    }
   ],
   "source": [
    "import pandas as pd\n",
    "from sklearn.ensemble import RandomForestClassifier\n",
    "\n",
    "# Load your trained RandomForestClassifier\n",
    "model = joblib.load(\"gridsearchCV.pkl\")\n",
    "\n",
    "# Create a DataFrame with your single row of data\n",
    "#total games per game to replace HST and AST\n",
    "#hs and as replaced by goals per game\n",
    "#hy and ay from www.thestatsdontlie.com\n",
    "single_row = pd.DataFrame({\n",
    "    'FTHG': [1.56],\n",
    "    'FTAG': [1.94],\n",
    "    'HST': [2.63],\n",
    "    'AST': [2.44],\n",
    "    'HS':[2.13],\n",
    "    'AS':[2.50],\n",
    "    'B365H':[2.37],\n",
    "    'B365D':[2.99],\n",
    "    'B365A':[3.51],\n",
    "    'HY':[3.88],\n",
    "    'AY':[3.33],\n",
    "    \n",
    "    # Add other features here...\n",
    "})\n",
    "\n",
    "\n",
    "# Predict using the model\n",
    "predicted_class = model.predict(single_row)\n",
    "\n",
    "predicted_label = le.inverse_transform(predicted_class)\n",
    "\n",
    "# Display the result\n",
    "print(f\"Predicted result: {predicted_label}\")\n"
   ]
  }
 ],
 "metadata": {
  "kernelspec": {
   "display_name": ".venv",
   "language": "python",
   "name": "python3"
  },
  "language_info": {
   "codemirror_mode": {
    "name": "ipython",
    "version": 3
   },
   "file_extension": ".py",
   "mimetype": "text/x-python",
   "name": "python",
   "nbconvert_exporter": "python",
   "pygments_lexer": "ipython3",
   "version": "3.11.5"
  }
 },
 "nbformat": 4,
 "nbformat_minor": 2
}
