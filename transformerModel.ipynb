{
 "cells": [
  {
   "cell_type": "code",
   "execution_count": null,
   "metadata": {},
   "outputs": [],
   "source": [
    "import numpy as np\n",
    "import pandas as pd\n",
    "import matplotlib.pyplot as plt"
   ]
  },
  {
   "cell_type": "code",
   "execution_count": null,
   "metadata": {},
   "outputs": [],
   "source": [
    "\n",
    "data = pd.read_csv(\"final_output.csv\")"
   ]
  },
  {
   "cell_type": "code",
   "execution_count": null,
   "metadata": {},
   "outputs": [],
   "source": [
    "data.head(5)"
   ]
  },
  {
   "cell_type": "code",
   "execution_count": null,
   "metadata": {},
   "outputs": [],
   "source": [
    "# Import the module\n",
    "from sklearn.preprocessing import LabelEncoder\n",
    "\n",
    "# Create an instance of the class\n",
    "le = LabelEncoder()\n",
    "\n",
    "# Fit the encoder on the column\n",
    "le.fit(['A', 'H', 'D'])\n",
    "\n",
    "# Check the classes and their corresponding labels\n",
    "print(le.classes_)\n",
    "# Output: array(['A', 'D', 'H'], dtype='<U1')\n",
    "\n",
    "# Transform the column into numerical labels\n",
    "data['FTR'] = le.transform(data['FTR'])\n",
    "print(data['FTR'])\n",
    "# Output: array([2, 0, 1, 1, 2, ...])\n",
    "\n"
   ]
  },
  {
   "cell_type": "code",
   "execution_count": null,
   "metadata": {},
   "outputs": [],
   "source": [
    "#Splitting the data into independent and dependent variables\n",
    "X = data.iloc[:,0:7].values\n",
    "y = data.iloc[:,7].values\n",
    "print('The independent features set: ')\n",
    "print(X[:7,:])\n",
    "print('The dependent variable: ')\n",
    "print(y[:7])"
   ]
  },
  {
   "cell_type": "code",
   "execution_count": null,
   "metadata": {},
   "outputs": [],
   "source": [
    "X = X.astype('float32')\n",
    "X.dtype"
   ]
  },
  {
   "cell_type": "code",
   "execution_count": null,
   "metadata": {},
   "outputs": [],
   "source": [
    "X.shape"
   ]
  },
  {
   "cell_type": "code",
   "execution_count": null,
   "metadata": {},
   "outputs": [],
   "source": [
    "import torch\n",
    "\n",
    "\n",
    "y = torch.tensor(y,dtype=torch.long)"
   ]
  },
  {
   "cell_type": "code",
   "execution_count": null,
   "metadata": {},
   "outputs": [],
   "source": [
    "y.shape"
   ]
  },
  {
   "cell_type": "code",
   "execution_count": null,
   "metadata": {},
   "outputs": [],
   "source": [
    "# Split the data to train and test dataset.\n",
    "from sklearn.model_selection import train_test_split\n",
    "sample_weight = np.random.RandomState(42).rand(y.shape[0])\n",
    "X_train, X_test, y_train, y_test = train_test_split(X, y, test_size=0.3,shuffle=True,random_state=42)"
   ]
  },
  {
   "cell_type": "code",
   "execution_count": null,
   "metadata": {},
   "outputs": [],
   "source": [
    "X_train.shape"
   ]
  },
  {
   "cell_type": "code",
   "execution_count": null,
   "metadata": {},
   "outputs": [],
   "source": [
    "import torch\n",
    "import torch.nn as nn\n",
    "import torch.optim as optim\n",
    "\n",
    "from torch.utils.data import DataLoader\n",
    "from sklearn.model_selection import train_test_split\n",
    "from torch.nn.utils.rnn import pad_sequence\n"
   ]
  },
  {
   "cell_type": "markdown",
   "metadata": {},
   "source": [
    "The Transformer Model"
   ]
  },
  {
   "cell_type": "code",
   "execution_count": null,
   "metadata": {},
   "outputs": [],
   "source": [
    "class TransformerModel(nn.Module):\n",
    "    def __init__(self, input_dim, hidden_dim, output_dim, num_layers,num_heads):\n",
    "        super(TransformerModel,self).__init__()\n",
    "\n",
    "        self.embedding = nn.Linear(input_dim, hidden_dim)\n",
    "        self.transformer = nn.TransformerEncoder(\n",
    "            nn.TransformerEncoderLayer(hidden_dim, num_heads), num_layers)\n",
    "        \n",
    "        self.fc = nn.Linear(hidden_dim, output_dim)\n",
    "\n",
    "    \n",
    "    def forward(self, x):\n",
    "        x = self.embedding(x)\n",
    "        x = self.transformer(x)\n",
    "        x = x.mean(dim=1)\n",
    "        x = self.fc(x)\n",
    "\n",
    "        return x\n",
    "\n"
   ]
  },
  {
   "cell_type": "code",
   "execution_count": null,
   "metadata": {},
   "outputs": [],
   "source": [
    "#set random seeds\n",
    "torch.manual_seed(42)\n",
    "\n",
    "#creating a data loader\n",
    "# set up DataLoader for training set\n",
    "train_loader = DataLoader(list(zip(X_train, y_train)), shuffle=True, batch_size=16)\n",
    "\n",
    "# set up DataLoader for testing set\n",
    "test_loader = DataLoader(list(zip(X_test, y_test)), shuffle=True, batch_size=1)\n",
    "\n",
    "#define hyperparameters\n",
    "input_dim = 7\n",
    "hidden_dim = 64\n",
    "output_dim = 3\n",
    "num_layers = 3\n",
    "num_heads = 4\n",
    "batch_size = 32\n",
    "num_epochs = 50\n",
    "learning_rate = 0.001\n",
    "\n",
    "#create models and optimizers\n",
    "model = TransformerModel(input_dim,hidden_dim, output_dim, num_layers, num_heads)\n",
    "\n",
    "optimizer =  optim.Adam(model.parameters(), lr=learning_rate)\n",
    "\n",
    "criterion = nn.CrossEntropyLoss()\n"
   ]
  },
  {
   "cell_type": "code",
   "execution_count": null,
   "metadata": {},
   "outputs": [],
   "source": [
    "#define hyperparameters\n",
    "for epoch in range(num_epochs):\n",
    "    total_loss = 0\n",
    "    total_correct = 0\n",
    "    total_samples = 0\n",
    "\n",
    "    for batch_idx, (inputs, targets) in enumerate(train_loader):\n",
    "        optimizer.zero_grad()\n",
    "\n",
    "        #adjusting the dimensionality of input data\n",
    "        inputs = inputs.unsqueeze(1)\n",
    "\n",
    "        outputs = model(inputs)\n",
    "        loss = criterion(outputs, targets)\n",
    "        total_loss += loss.item() \n",
    "        _,predicted = torch.max(outputs, 1)\n",
    "        total_correct += (predicted == targets).sum().item()\n",
    "        total_samples += targets.size(0)\n",
    "\n",
    "        loss.backward()\n",
    "        optimizer.step()\n",
    "\n",
    "    avg_loss = total_loss / len(train_loader)\n",
    "    accuracy = 100 * total_correct / total_samples\n",
    "\n",
    "    print(f\"Epoch {epoch+1}/{num_epochs}, Loss: {avg_loss:.4f}, Accuracy: {accuracy:.2f}%\")\n"
   ]
  },
  {
   "cell_type": "code",
   "execution_count": null,
   "metadata": {},
   "outputs": [],
   "source": [
    "#evaluating the model on a test set\n",
    "correct = 0\n",
    "total = 0\n",
    "\n",
    "with torch.no_grad():\n",
    "    for inputs, targets in test_loader:\n",
    "        #adjusting the dimensionality of input data\n",
    "        inputs = inputs.unsqueeze(1)\n",
    "\n",
    "        outputs = model(inputs)\n",
    "        _, predicted = torch.max(outputs.data, 1)\n",
    "        total += targets.size(0)\n",
    "        correct += (predicted == targets).sum().item()\n",
    "\n",
    "accuracy = 100* correct/ total\n",
    "print(f\"Test Accuracy: {accuracy:.2f}\")"
   ]
  },
  {
   "cell_type": "code",
   "execution_count": null,
   "metadata": {},
   "outputs": [],
   "source": [
    "#[\"FTHG\",\"FTAG\",\"HTHG\",\"HTAG\",\"Form\",\"B365H\",\"B365D\",\"B365A\"]\n",
    "X_new = np.array([[1.08,1.08,1.00,2.90,3.60,2.30]])\n",
    "#X_net = torch.FloatTensor(X_new)\n",
    "#X_new.view(-1,1)\n",
    "X_new = torch.IntTensor(X_new)\n",
    "X_new.shape"
   ]
  },
  {
   "cell_type": "code",
   "execution_count": null,
   "metadata": {},
   "outputs": [],
   "source": [
    "import torch\n",
    "\n",
    "# Assuming your model, optimizer, and criterion are already defined\n",
    "# model = TransformerModel(input_dim, hidden_dim, output_dim, num_layers, num_heads)\n",
    "# optimizer = optim.Adam(model.parameters(), lr=learning_rate)\n",
    "# criterion = nn.CrossEntropyLoss()\n",
    "\n",
    "# Load the trained model checkpoint\n",
    "#checkpoint = torch.load('path_to_your_model_checkpoint.pth')\n",
    "#model.load_state_dict(checkpoint['model_state_dict'])\n",
    "#optimizer.load_state_dict(checkpoint['optimizer_state_dict'])\n",
    "#epoch = checkpoint['epoch']\n",
    "#loss = checkpoint['loss']\n",
    "\n",
    "# Set the model to evaluation mode\n",
    "model.eval()\n",
    "\n",
    "# Create a new input tensor with 7 elements\n",
    "new_input = torch.tensor([2.79,2.58,3.53,3.32,2.25,3.30,3.20])\n",
    "\n",
    "# Adjust the dimensionality of the input data\n",
    "new_input = new_input.unsqueeze(0).unsqueeze(1)  # Adding batch and sequence dimensions\n",
    "\n",
    "# Make the prediction\n",
    "with torch.no_grad():\n",
    "    prediction = model(new_input)\n",
    "\n",
    "# Convert the prediction to a probability distribution using softmax\n",
    "predicted_probs = torch.softmax(prediction, dim=1)\n",
    "\n",
    "# Get the predicted class\n",
    "predicted_class = torch.argmax(predicted_probs, dim=1).item()\n",
    "\n",
    "print(\"Predicted Class:\", predicted_class)\n",
    "#{0:A, 1:D, 2:H}\n"
   ]
  },
  {
   "cell_type": "code",
   "execution_count": null,
   "metadata": {},
   "outputs": [],
   "source": [
    "import pickle\n",
    "\n",
    "#Create Pickle file from the Neural network Model\n",
    "with open('transformer.pickle', 'wb') as dump_var:\n",
    "   pickle.dump(data, dump_var)"
   ]
  },
  {
   "cell_type": "code",
   "execution_count": null,
   "metadata": {},
   "outputs": [],
   "source": [
    "\n",
    "#[0.95,1.30,2.29,3.10,2.20,3.40,3.30]\n",
    "#[0.90,1.33,2.29,3.24,2.45,3.30,2.90]\n",
    "#[1.17,1.06,3.28,2.17,2.90,3.10,2.62]\n",
    "#[0.91,0.96,2.30,1.91,2.45,3.00,3.10]\n",
    "#[1.61,1.72,3.33,2.78,3.40,3.40,2.15]\n",
    "#[1.33,1.00,2.61,2.22,2.30,3.30,3.20]\n",
    "#[1.20,1.50,2.20,2.75,2.25,3.10,3.50]\n",
    "#[1.24,1.25,2.90,2.80,2.05,3.40,3.60]\n",
    "#[1.90,2.19,2.95,3.19,3.10,3.50,2.15]\n",
    "#[1.30,1.17,2.57,2.70,2.50,3.10,3.00]\n",
    "#[2.79,2.58,3.53,3.32,2.25,3.30,3.20]"
   ]
  }
 ],
 "metadata": {
  "kernelspec": {
   "display_name": ".venv",
   "language": "python",
   "name": "python3"
  },
  "language_info": {
   "codemirror_mode": {
    "name": "ipython",
    "version": 3
   },
   "file_extension": ".py",
   "mimetype": "text/x-python",
   "name": "python",
   "nbconvert_exporter": "python",
   "pygments_lexer": "ipython3",
   "version": "3.11.5"
  }
 },
 "nbformat": 4,
 "nbformat_minor": 2
}
