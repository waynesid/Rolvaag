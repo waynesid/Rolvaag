{
 "cells": [
  {
   "cell_type": "code",
   "execution_count": 1,
   "metadata": {},
   "outputs": [],
   "source": [
    "import numpy as np\n",
    "import pandas as pd\n",
    "import matplotlib.pyplot as plt"
   ]
  },
  {
   "cell_type": "code",
   "execution_count": 2,
   "metadata": {},
   "outputs": [],
   "source": [
    "\n",
    "data = pd.read_csv(\"final_output.csv\")"
   ]
  },
  {
   "cell_type": "code",
   "execution_count": 3,
   "metadata": {},
   "outputs": [
    {
     "data": {
      "text/html": [
       "<div>\n",
       "<style scoped>\n",
       "    .dataframe tbody tr th:only-of-type {\n",
       "        vertical-align: middle;\n",
       "    }\n",
       "\n",
       "    .dataframe tbody tr th {\n",
       "        vertical-align: top;\n",
       "    }\n",
       "\n",
       "    .dataframe thead th {\n",
       "        text-align: right;\n",
       "    }\n",
       "</style>\n",
       "<table border=\"1\" class=\"dataframe\">\n",
       "  <thead>\n",
       "    <tr style=\"text-align: right;\">\n",
       "      <th></th>\n",
       "      <th>FTHG</th>\n",
       "      <th>FTAG</th>\n",
       "      <th>HST</th>\n",
       "      <th>AST</th>\n",
       "      <th>B365H</th>\n",
       "      <th>B365D</th>\n",
       "      <th>B365A</th>\n",
       "      <th>FTR</th>\n",
       "    </tr>\n",
       "  </thead>\n",
       "  <tbody>\n",
       "    <tr>\n",
       "      <th>0</th>\n",
       "      <td>6</td>\n",
       "      <td>0</td>\n",
       "      <td>14.0</td>\n",
       "      <td>2.0</td>\n",
       "      <td>1.10</td>\n",
       "      <td>10.00</td>\n",
       "      <td>23.00</td>\n",
       "      <td>H</td>\n",
       "    </tr>\n",
       "    <tr>\n",
       "      <th>1</th>\n",
       "      <td>0</td>\n",
       "      <td>2</td>\n",
       "      <td>2.0</td>\n",
       "      <td>6.0</td>\n",
       "      <td>2.80</td>\n",
       "      <td>3.25</td>\n",
       "      <td>2.60</td>\n",
       "      <td>A</td>\n",
       "    </tr>\n",
       "    <tr>\n",
       "      <th>2</th>\n",
       "      <td>2</td>\n",
       "      <td>1</td>\n",
       "      <td>8.0</td>\n",
       "      <td>4.0</td>\n",
       "      <td>1.36</td>\n",
       "      <td>5.00</td>\n",
       "      <td>8.50</td>\n",
       "      <td>H</td>\n",
       "    </tr>\n",
       "    <tr>\n",
       "      <th>3</th>\n",
       "      <td>1</td>\n",
       "      <td>0</td>\n",
       "      <td>4.0</td>\n",
       "      <td>3.0</td>\n",
       "      <td>3.40</td>\n",
       "      <td>3.30</td>\n",
       "      <td>2.20</td>\n",
       "      <td>H</td>\n",
       "    </tr>\n",
       "    <tr>\n",
       "      <th>4</th>\n",
       "      <td>2</td>\n",
       "      <td>0</td>\n",
       "      <td>8.0</td>\n",
       "      <td>3.0</td>\n",
       "      <td>1.80</td>\n",
       "      <td>3.50</td>\n",
       "      <td>4.75</td>\n",
       "      <td>H</td>\n",
       "    </tr>\n",
       "  </tbody>\n",
       "</table>\n",
       "</div>"
      ],
      "text/plain": [
       "   FTHG  FTAG   HST  AST  B365H  B365D  B365A FTR\n",
       "0     6     0  14.0  2.0   1.10  10.00  23.00   H\n",
       "1     0     2   2.0  6.0   2.80   3.25   2.60   A\n",
       "2     2     1   8.0  4.0   1.36   5.00   8.50   H\n",
       "3     1     0   4.0  3.0   3.40   3.30   2.20   H\n",
       "4     2     0   8.0  3.0   1.80   3.50   4.75   H"
      ]
     },
     "execution_count": 3,
     "metadata": {},
     "output_type": "execute_result"
    }
   ],
   "source": [
    "data.head(5)"
   ]
  },
  {
   "cell_type": "code",
   "execution_count": 4,
   "metadata": {},
   "outputs": [
    {
     "name": "stdout",
     "output_type": "stream",
     "text": [
      "['A' 'D' 'H']\n",
      "0        2\n",
      "1        0\n",
      "2        2\n",
      "3        2\n",
      "4        2\n",
      "        ..\n",
      "38753    2\n",
      "38754    0\n",
      "38755    2\n",
      "38756    1\n",
      "38757    2\n",
      "Name: FTR, Length: 38758, dtype: int32\n"
     ]
    }
   ],
   "source": [
    "# Import the module\n",
    "from sklearn.preprocessing import LabelEncoder\n",
    "\n",
    "# Create an instance of the class\n",
    "le = LabelEncoder()\n",
    "\n",
    "# Fit the encoder on the column\n",
    "le.fit(['A', 'H', 'D'])\n",
    "\n",
    "# Check the classes and their corresponding labels\n",
    "print(le.classes_)\n",
    "# Output: array(['A', 'D', 'H'], dtype='<U1')\n",
    "\n",
    "# Transform the column into numerical labels\n",
    "data['FTR'] = le.transform(data['FTR'])\n",
    "print(data['FTR'])\n",
    "# Output: array([2, 0, 1, 1, 2, ...])\n",
    "\n"
   ]
  },
  {
   "cell_type": "code",
   "execution_count": 5,
   "metadata": {},
   "outputs": [
    {
     "name": "stdout",
     "output_type": "stream",
     "text": [
      "The independent features set: \n",
      "[[ 6.    0.   14.    2.    1.1  10.   23.  ]\n",
      " [ 0.    2.    2.    6.    2.8   3.25  2.6 ]\n",
      " [ 2.    1.    8.    4.    1.36  5.    8.5 ]\n",
      " [ 1.    0.    4.    3.    3.4   3.3   2.2 ]\n",
      " [ 2.    0.    8.    3.    1.8   3.5   4.75]\n",
      " [ 1.    1.    1.    5.    2.2   3.2   3.5 ]\n",
      " [ 2.    1.    9.    6.    2.3   3.4   3.1 ]]\n",
      "The dependent variable: \n",
      "[2 0 2 2 2 1 2]\n"
     ]
    }
   ],
   "source": [
    "#Splitting the data into independent and dependent variables\n",
    "X = data.iloc[:,0:7].values\n",
    "y = data.iloc[:,7].values\n",
    "print('The independent features set: ')\n",
    "print(X[:7,:])\n",
    "print('The dependent variable: ')\n",
    "print(y[:7])"
   ]
  },
  {
   "cell_type": "code",
   "execution_count": 6,
   "metadata": {},
   "outputs": [
    {
     "data": {
      "text/plain": [
       "dtype('float32')"
      ]
     },
     "execution_count": 6,
     "metadata": {},
     "output_type": "execute_result"
    }
   ],
   "source": [
    "X = X.astype('float32')\n",
    "X.dtype"
   ]
  },
  {
   "cell_type": "code",
   "execution_count": 7,
   "metadata": {},
   "outputs": [
    {
     "data": {
      "text/plain": [
       "(38758, 7)"
      ]
     },
     "execution_count": 7,
     "metadata": {},
     "output_type": "execute_result"
    }
   ],
   "source": [
    "X.shape"
   ]
  },
  {
   "cell_type": "code",
   "execution_count": 8,
   "metadata": {},
   "outputs": [],
   "source": [
    "import torch\n",
    "\n",
    "\n",
    "y = torch.tensor(y,dtype=torch.long)"
   ]
  },
  {
   "cell_type": "code",
   "execution_count": 9,
   "metadata": {},
   "outputs": [
    {
     "data": {
      "text/plain": [
       "torch.Size([38758])"
      ]
     },
     "execution_count": 9,
     "metadata": {},
     "output_type": "execute_result"
    }
   ],
   "source": [
    "y.shape"
   ]
  },
  {
   "cell_type": "code",
   "execution_count": 10,
   "metadata": {},
   "outputs": [],
   "source": [
    "# Split the data to train and test dataset.\n",
    "from sklearn.model_selection import train_test_split\n",
    "sample_weight = np.random.RandomState(42).rand(y.shape[0])\n",
    "X_train, X_test, y_train, y_test = train_test_split(X, y, test_size=0.3,shuffle=True,random_state=42)"
   ]
  },
  {
   "cell_type": "code",
   "execution_count": 11,
   "metadata": {},
   "outputs": [
    {
     "data": {
      "text/plain": [
       "(27130, 7)"
      ]
     },
     "execution_count": 11,
     "metadata": {},
     "output_type": "execute_result"
    }
   ],
   "source": [
    "X_train.shape"
   ]
  },
  {
   "cell_type": "code",
   "execution_count": 12,
   "metadata": {},
   "outputs": [],
   "source": [
    "import torch\n",
    "import torch.nn as nn\n",
    "import torch.optim as optim\n",
    "\n",
    "from torch.utils.data import DataLoader\n",
    "from sklearn.model_selection import train_test_split\n",
    "from torch.nn.utils.rnn import pad_sequence\n"
   ]
  },
  {
   "cell_type": "markdown",
   "metadata": {},
   "source": [
    "The Transformer Model"
   ]
  },
  {
   "cell_type": "code",
   "execution_count": 13,
   "metadata": {},
   "outputs": [],
   "source": [
    "class TransformerModel(nn.Module):\n",
    "    def __init__(self, input_dim, hidden_dim, output_dim, num_layers,num_heads):\n",
    "        super(TransformerModel,self).__init__()\n",
    "\n",
    "        self.embedding = nn.Linear(input_dim, hidden_dim)\n",
    "        self.transformer = nn.TransformerEncoder(\n",
    "            nn.TransformerEncoderLayer(hidden_dim, num_heads), num_layers)\n",
    "        \n",
    "        self.fc = nn.Linear(hidden_dim, output_dim)\n",
    "\n",
    "    \n",
    "    def forward(self, x):\n",
    "        x = self.embedding(x)\n",
    "        x = self.transformer(x)\n",
    "        x = x.mean(dim=1)\n",
    "        x = self.fc(x)\n",
    "\n",
    "        return x\n",
    "\n"
   ]
  },
  {
   "cell_type": "code",
   "execution_count": 14,
   "metadata": {},
   "outputs": [
    {
     "name": "stderr",
     "output_type": "stream",
     "text": [
      "c:\\Users\\USER\\Wayne\\Rolvaag\\.venv\\Lib\\site-packages\\torch\\nn\\modules\\transformer.py:282: UserWarning: enable_nested_tensor is True, but self.use_nested_tensor is False because encoder_layer.self_attn.batch_first was not True(use batch_first for better inference performance)\n",
      "  warnings.warn(f\"enable_nested_tensor is True, but self.use_nested_tensor is False because {why_not_sparsity_fast_path}\")\n",
      "c:\\Users\\USER\\Wayne\\Rolvaag\\.venv\\Lib\\site-packages\\tqdm\\auto.py:21: TqdmWarning: IProgress not found. Please update jupyter and ipywidgets. See https://ipywidgets.readthedocs.io/en/stable/user_install.html\n",
      "  from .autonotebook import tqdm as notebook_tqdm\n"
     ]
    }
   ],
   "source": [
    "#set random seeds\n",
    "torch.manual_seed(42)\n",
    "\n",
    "#creating a data loader\n",
    "# set up DataLoader for training set\n",
    "train_loader = DataLoader(list(zip(X_train, y_train)), shuffle=True, batch_size=16)\n",
    "\n",
    "# set up DataLoader for testing set\n",
    "test_loader = DataLoader(list(zip(X_test, y_test)), shuffle=True, batch_size=1)\n",
    "\n",
    "#define hyperparameters\n",
    "input_dim = 7\n",
    "hidden_dim = 32\n",
    "output_dim = 3\n",
    "num_layers = 6\n",
    "num_heads = 8\n",
    "batch_size = 32\n",
    "num_epochs = 25\n",
    "learning_rate = 0.001\n",
    "\n",
    "#create models and optimizers\n",
    "model = TransformerModel(input_dim,hidden_dim, output_dim, num_layers, num_heads)\n",
    "\n",
    "optimizer =  optim.Adam(model.parameters(), lr=learning_rate)\n",
    "\n",
    "criterion = nn.CrossEntropyLoss()\n"
   ]
  },
  {
   "cell_type": "code",
   "execution_count": 15,
   "metadata": {},
   "outputs": [
    {
     "name": "stdout",
     "output_type": "stream",
     "text": [
      "Epoch 1/25, Loss: 0.6651, Accuracy: 69.86%\n",
      "Epoch 2/25, Loss: 0.0420, Accuracy: 98.97%\n",
      "Epoch 3/25, Loss: 0.0226, Accuracy: 99.47%\n",
      "Epoch 4/25, Loss: 0.3342, Accuracy: 85.71%\n",
      "Epoch 5/25, Loss: 0.0247, Accuracy: 99.57%\n",
      "Epoch 6/25, Loss: 0.1036, Accuracy: 96.87%\n",
      "Epoch 7/25, Loss: 0.3673, Accuracy: 77.97%\n",
      "Epoch 8/25, Loss: 0.5640, Accuracy: 69.94%\n",
      "Epoch 9/25, Loss: 0.2234, Accuracy: 92.85%\n",
      "Epoch 10/25, Loss: 0.0534, Accuracy: 98.82%\n",
      "Epoch 11/25, Loss: 0.0711, Accuracy: 97.01%\n",
      "Epoch 12/25, Loss: 0.1084, Accuracy: 95.60%\n",
      "Epoch 13/25, Loss: 0.0228, Accuracy: 99.45%\n",
      "Epoch 14/25, Loss: 0.0024, Accuracy: 99.96%\n",
      "Epoch 15/25, Loss: 0.0193, Accuracy: 99.64%\n",
      "Epoch 16/25, Loss: 0.0058, Accuracy: 99.90%\n",
      "Epoch 17/25, Loss: 0.0536, Accuracy: 98.10%\n",
      "Epoch 18/25, Loss: 0.0022, Accuracy: 99.97%\n",
      "Epoch 19/25, Loss: 0.0008, Accuracy: 99.99%\n",
      "Epoch 20/25, Loss: 0.0162, Accuracy: 99.68%\n",
      "Epoch 21/25, Loss: 0.0080, Accuracy: 99.87%\n",
      "Epoch 22/25, Loss: 0.0064, Accuracy: 99.90%\n",
      "Epoch 23/25, Loss: 0.0017, Accuracy: 99.98%\n",
      "Epoch 24/25, Loss: 0.0001, Accuracy: 100.00%\n",
      "Epoch 25/25, Loss: 0.0000, Accuracy: 100.00%\n"
     ]
    }
   ],
   "source": [
    "#define hyperparameters\n",
    "for epoch in range(num_epochs):\n",
    "    total_loss = 0\n",
    "    total_correct = 0\n",
    "    total_samples = 0\n",
    "\n",
    "    for batch_idx, (inputs, targets) in enumerate(train_loader):\n",
    "        optimizer.zero_grad()\n",
    "\n",
    "        #adjusting the dimensionality of input data\n",
    "        inputs = inputs.unsqueeze(1)\n",
    "\n",
    "        outputs = model(inputs)\n",
    "        loss = criterion(outputs, targets)\n",
    "        total_loss += loss.item() \n",
    "        _,predicted = torch.max(outputs, 1)\n",
    "        total_correct += (predicted == targets).sum().item()\n",
    "        total_samples += targets.size(0)\n",
    "\n",
    "        loss.backward()\n",
    "        optimizer.step()\n",
    "\n",
    "    avg_loss = total_loss / len(train_loader)\n",
    "    accuracy = 100 * total_correct / total_samples\n",
    "\n",
    "    print(f\"Epoch {epoch+1}/{num_epochs}, Loss: {avg_loss:.4f}, Accuracy: {accuracy:.2f}%\")\n"
   ]
  },
  {
   "cell_type": "code",
   "execution_count": 16,
   "metadata": {},
   "outputs": [
    {
     "name": "stdout",
     "output_type": "stream",
     "text": [
      "Test Accuracy: 87.95\n"
     ]
    }
   ],
   "source": [
    "#evaluating the model on a test set\n",
    "correct = 0\n",
    "total = 0\n",
    "\n",
    "with torch.no_grad():\n",
    "    for inputs, targets in test_loader:\n",
    "        #adjusting the dimensionality of input data\n",
    "        inputs = inputs.unsqueeze(1)\n",
    "\n",
    "        outputs = model(inputs)\n",
    "        _, predicted = torch.max(outputs.data, 1)\n",
    "        total += targets.size(0)\n",
    "        correct += (predicted == targets).sum().item()\n",
    "\n",
    "accuracy = 100* correct/ total\n",
    "print(f\"Test Accuracy: {accuracy:.2f}\")"
   ]
  },
  {
   "cell_type": "code",
   "execution_count": 17,
   "metadata": {},
   "outputs": [
    {
     "data": {
      "text/plain": [
       "torch.Size([1, 6])"
      ]
     },
     "execution_count": 17,
     "metadata": {},
     "output_type": "execute_result"
    }
   ],
   "source": [
    "#[\"FTHG\",\"FTAG\",\"HTHG\",\"HTAG\",\"Form\",\"B365H\",\"B365D\",\"B365A\"]\n",
    "X_new = np.array([[1.08,1.08,1.00,2.90,3.60,2.30]])\n",
    "#X_net = torch.FloatTensor(X_new)\n",
    "#X_new.view(-1,1)\n",
    "X_new = torch.IntTensor(X_new)\n",
    "X_new.shape"
   ]
  },
  {
   "cell_type": "code",
   "execution_count": 18,
   "metadata": {},
   "outputs": [
    {
     "name": "stdout",
     "output_type": "stream",
     "text": [
      "Predicted Class: 1\n"
     ]
    }
   ],
   "source": [
    "import torch\n",
    "\n",
    "# Assuming your model, optimizer, and criterion are already defined\n",
    "# model = TransformerModel(input_dim, hidden_dim, output_dim, num_layers, num_heads)\n",
    "# optimizer = optim.Adam(model.parameters(), lr=learning_rate)\n",
    "# criterion = nn.CrossEntropyLoss()\n",
    "\n",
    "# Load the trained model checkpoint\n",
    "#checkpoint = torch.load('path_to_your_model_checkpoint.pth')\n",
    "#model.load_state_dict(checkpoint['model_state_dict'])\n",
    "#optimizer.load_state_dict(checkpoint['optimizer_state_dict'])\n",
    "#epoch = checkpoint['epoch']\n",
    "#loss = checkpoint['loss']\n",
    "\n",
    "# Set the model to evaluation mode\n",
    "model.eval()\n",
    "\n",
    "# Create a new input tensor with 7 elements\n",
    "new_input = torch.tensor([0.83,1.39,4.35,4.91,4.17,2.78,2.18])\n",
    "\n",
    "# Adjust the dimensionality of the input data\n",
    "new_input = new_input.unsqueeze(0).unsqueeze(1)  # Adding batch and sequence dimensions\n",
    "\n",
    "# Make the prediction\n",
    "with torch.no_grad():\n",
    "    prediction = model(new_input)\n",
    "\n",
    "# Convert the prediction to a probability distribution using softmax\n",
    "predicted_probs = torch.softmax(prediction, dim=1)\n",
    "\n",
    "# Get the predicted class\n",
    "predicted_class = torch.argmax(predicted_probs, dim=1).item()\n",
    "\n",
    "print(\"Predicted Class:\", predicted_class)\n",
    "#{0:A, 1:D, 2:H}\n"
   ]
  },
  {
   "cell_type": "code",
   "execution_count": 19,
   "metadata": {},
   "outputs": [],
   "source": [
    "import pickle\n",
    "\n",
    "#Create Pickle file from the Neural network Model\n",
    "with open('transformer.pickle', 'wb') as dump_var:\n",
    "   pickle.dump(data, dump_var)"
   ]
  },
  {
   "cell_type": "code",
   "execution_count": 20,
   "metadata": {},
   "outputs": [],
   "source": [
    "\n",
    "#[1.00,1.26,4.35,4.35,2.62,3.00,3.00]\n",
    "#[1.30,0.65,4.90,4.90,2.10,3.60,3.40]\n",
    "#[1.15,4.50,4.35,6.10,3.60,3.30,2.15]\n",
    "#[1.26,1.04,5.17,5.13,2.20,3.10,3.60]\n",
    "#[0.96,1.25,4.50,4.75,2.55,3.30,2.80]\n",
    "#[0.75,1.13,4.46,4.50,3.00,3.10,2.55]\n",
    "#[1.35,1.00,5.15,5.20,2.20,3.30,3.40]\n",
    "#[1.15,1.65,5.40,5.10,2.75,2.90,2.70]\n",
    "#[0.83,0.87,4.35,5.48,2.30,3.00,3.40]\n",
    "#10[0.80,0.84,4.40,4.92,2.55,3.10,3.10]\n",
    "#[1.00,1.32,4.72,4.68,2.20.3.00,3.75]\n",
    "#[1.17,0.87,4.74,5.13,2.45,3.25,3.00]\n",
    "#[1.00,0.95,3.90,4.15,2.00,3.30,4.00]\n",
    "#[1.00,1.00,6.30,6.05,3.10,3.40,2.37]\n",
    "#[2.13,1.35,6.61,5.65,2.15,3.75,3.10]\n",
    "#[1.04,1.82,4.22,6.36,3.75,3.30,2.05]\n",
    "#[1.00,1.85,5.60,7.10,2.30,3.40,3.10]"
   ]
  }
 ],
 "metadata": {
  "kernelspec": {
   "display_name": ".venv",
   "language": "python",
   "name": "python3"
  },
  "language_info": {
   "codemirror_mode": {
    "name": "ipython",
    "version": 3
   },
   "file_extension": ".py",
   "mimetype": "text/x-python",
   "name": "python",
   "nbconvert_exporter": "python",
   "pygments_lexer": "ipython3",
   "version": "3.11.5"
  }
 },
 "nbformat": 4,
 "nbformat_minor": 2
}
