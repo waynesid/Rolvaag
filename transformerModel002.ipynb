{
 "cells": [
  {
   "cell_type": "code",
   "execution_count": 1,
   "metadata": {},
   "outputs": [],
   "source": [
    "import numpy as np\n",
    "import pandas as pd\n",
    "import matplotlib.pyplot as plt"
   ]
  },
  {
   "cell_type": "code",
   "execution_count": 2,
   "metadata": {},
   "outputs": [],
   "source": [
    "data = pd.read_csv(\"final_output.csv\")"
   ]
  },
  {
   "cell_type": "code",
   "execution_count": 3,
   "metadata": {},
   "outputs": [
    {
     "data": {
      "text/html": [
       "<div>\n",
       "<style scoped>\n",
       "    .dataframe tbody tr th:only-of-type {\n",
       "        vertical-align: middle;\n",
       "    }\n",
       "\n",
       "    .dataframe tbody tr th {\n",
       "        vertical-align: top;\n",
       "    }\n",
       "\n",
       "    .dataframe thead th {\n",
       "        text-align: right;\n",
       "    }\n",
       "</style>\n",
       "<table border=\"1\" class=\"dataframe\">\n",
       "  <thead>\n",
       "    <tr style=\"text-align: right;\">\n",
       "      <th></th>\n",
       "      <th>FTHG</th>\n",
       "      <th>FTAG</th>\n",
       "      <th>HST</th>\n",
       "      <th>AST</th>\n",
       "      <th>B365H</th>\n",
       "      <th>B365D</th>\n",
       "      <th>B365A</th>\n",
       "      <th>FTR</th>\n",
       "    </tr>\n",
       "  </thead>\n",
       "  <tbody>\n",
       "    <tr>\n",
       "      <th>0</th>\n",
       "      <td>6</td>\n",
       "      <td>0</td>\n",
       "      <td>14.0</td>\n",
       "      <td>2.0</td>\n",
       "      <td>1.10</td>\n",
       "      <td>10.00</td>\n",
       "      <td>23.00</td>\n",
       "      <td>H</td>\n",
       "    </tr>\n",
       "    <tr>\n",
       "      <th>1</th>\n",
       "      <td>0</td>\n",
       "      <td>2</td>\n",
       "      <td>2.0</td>\n",
       "      <td>6.0</td>\n",
       "      <td>2.80</td>\n",
       "      <td>3.25</td>\n",
       "      <td>2.60</td>\n",
       "      <td>A</td>\n",
       "    </tr>\n",
       "    <tr>\n",
       "      <th>2</th>\n",
       "      <td>2</td>\n",
       "      <td>1</td>\n",
       "      <td>8.0</td>\n",
       "      <td>4.0</td>\n",
       "      <td>1.36</td>\n",
       "      <td>5.00</td>\n",
       "      <td>8.50</td>\n",
       "      <td>H</td>\n",
       "    </tr>\n",
       "    <tr>\n",
       "      <th>3</th>\n",
       "      <td>1</td>\n",
       "      <td>0</td>\n",
       "      <td>4.0</td>\n",
       "      <td>3.0</td>\n",
       "      <td>3.40</td>\n",
       "      <td>3.30</td>\n",
       "      <td>2.20</td>\n",
       "      <td>H</td>\n",
       "    </tr>\n",
       "    <tr>\n",
       "      <th>4</th>\n",
       "      <td>2</td>\n",
       "      <td>0</td>\n",
       "      <td>8.0</td>\n",
       "      <td>3.0</td>\n",
       "      <td>1.80</td>\n",
       "      <td>3.50</td>\n",
       "      <td>4.75</td>\n",
       "      <td>H</td>\n",
       "    </tr>\n",
       "  </tbody>\n",
       "</table>\n",
       "</div>"
      ],
      "text/plain": [
       "   FTHG  FTAG   HST  AST  B365H  B365D  B365A FTR\n",
       "0     6     0  14.0  2.0   1.10  10.00  23.00   H\n",
       "1     0     2   2.0  6.0   2.80   3.25   2.60   A\n",
       "2     2     1   8.0  4.0   1.36   5.00   8.50   H\n",
       "3     1     0   4.0  3.0   3.40   3.30   2.20   H\n",
       "4     2     0   8.0  3.0   1.80   3.50   4.75   H"
      ]
     },
     "execution_count": 3,
     "metadata": {},
     "output_type": "execute_result"
    }
   ],
   "source": [
    "data.head(5)"
   ]
  },
  {
   "cell_type": "code",
   "execution_count": 4,
   "metadata": {},
   "outputs": [
    {
     "name": "stdout",
     "output_type": "stream",
     "text": [
      "['A' 'D' 'H']\n",
      "0        2\n",
      "1        0\n",
      "2        2\n",
      "3        2\n",
      "4        2\n",
      "        ..\n",
      "38753    2\n",
      "38754    0\n",
      "38755    2\n",
      "38756    1\n",
      "38757    2\n",
      "Name: FTR, Length: 38758, dtype: int32\n"
     ]
    }
   ],
   "source": [
    "# Import the module\n",
    "from sklearn.preprocessing import LabelEncoder\n",
    "\n",
    "# Create an instance of the class\n",
    "le = LabelEncoder()\n",
    "\n",
    "# Fit the encoder on the column\n",
    "le.fit(['A', 'H', 'D'])\n",
    "\n",
    "# Check the classes and their corresponding labels\n",
    "print(le.classes_)\n",
    "# Output: array(['A', 'D', 'H'], dtype='<U1')\n",
    "\n",
    "# Transform the column into numerical labels\n",
    "data['FTR'] = le.transform(data['FTR'])\n",
    "print(data['FTR'])\n",
    "# Output: array([2, 0, 1, 1, 2, ...])\n",
    "\n"
   ]
  },
  {
   "cell_type": "code",
   "execution_count": 5,
   "metadata": {},
   "outputs": [
    {
     "name": "stdout",
     "output_type": "stream",
     "text": [
      "The independent features set: \n",
      "[[ 1.1  10.   23.  ]\n",
      " [ 2.8   3.25  2.6 ]\n",
      " [ 1.36  5.    8.5 ]\n",
      " [ 3.4   3.3   2.2 ]\n",
      " [ 1.8   3.5   4.75]\n",
      " [ 2.2   3.2   3.5 ]\n",
      " [ 2.3   3.4   3.1 ]]\n",
      "The dependent variable: \n",
      "[2 0 2 2 2 1 2]\n"
     ]
    }
   ],
   "source": [
    "#Splitting the data into independent and dependent variables\n",
    "X = data.iloc[:,4:7].values\n",
    "y = data.iloc[:,7].values\n",
    "print('The independent features set: ')\n",
    "print(X[:7,:])\n",
    "print('The dependent variable: ')\n",
    "print(y[:7])"
   ]
  },
  {
   "cell_type": "code",
   "execution_count": 6,
   "metadata": {},
   "outputs": [
    {
     "data": {
      "text/plain": [
       "dtype('float32')"
      ]
     },
     "execution_count": 6,
     "metadata": {},
     "output_type": "execute_result"
    }
   ],
   "source": [
    "X = X.astype('float32')\n",
    "X.dtype"
   ]
  },
  {
   "cell_type": "code",
   "execution_count": 7,
   "metadata": {},
   "outputs": [
    {
     "data": {
      "text/plain": [
       "(38758, 3)"
      ]
     },
     "execution_count": 7,
     "metadata": {},
     "output_type": "execute_result"
    }
   ],
   "source": [
    "X.shape"
   ]
  },
  {
   "cell_type": "code",
   "execution_count": 8,
   "metadata": {},
   "outputs": [],
   "source": [
    "import torch\n",
    "\n",
    "\n",
    "y = torch.tensor(y,dtype=torch.long)"
   ]
  },
  {
   "cell_type": "code",
   "execution_count": 9,
   "metadata": {},
   "outputs": [
    {
     "data": {
      "text/plain": [
       "torch.Size([38758])"
      ]
     },
     "execution_count": 9,
     "metadata": {},
     "output_type": "execute_result"
    }
   ],
   "source": [
    "y.shape"
   ]
  },
  {
   "cell_type": "code",
   "execution_count": 10,
   "metadata": {},
   "outputs": [],
   "source": [
    "# Split the data to train and test dataset.\n",
    "from sklearn.model_selection import train_test_split\n",
    "sample_weight = np.random.RandomState(42).rand(y.shape[0])\n",
    "X_train, X_test, y_train, y_test = train_test_split(X, y, test_size=0.3,shuffle=True,random_state=42)"
   ]
  },
  {
   "cell_type": "code",
   "execution_count": 11,
   "metadata": {},
   "outputs": [
    {
     "data": {
      "text/plain": [
       "(27130, 3)"
      ]
     },
     "execution_count": 11,
     "metadata": {},
     "output_type": "execute_result"
    }
   ],
   "source": [
    "X_train.shape"
   ]
  },
  {
   "cell_type": "code",
   "execution_count": 12,
   "metadata": {},
   "outputs": [],
   "source": [
    "import torch\n",
    "import torch.nn as nn\n",
    "import torch.optim as optim\n",
    "\n",
    "from torch.utils.data import DataLoader\n",
    "from sklearn.model_selection import train_test_split\n",
    "from torch.nn.utils.rnn import pad_sequence\n"
   ]
  },
  {
   "cell_type": "code",
   "execution_count": 13,
   "metadata": {},
   "outputs": [],
   "source": [
    "import torch\n",
    "import torch.nn as nn\n",
    "\n",
    "class CustomTransformerLayer(nn.Module):\n",
    "    def __init__(self, hidden_dim, num_heads, dropout=0.1):\n",
    "        super(CustomTransformerLayer, self).__init__()\n",
    "        self.self_attention = nn.MultiheadAttention(hidden_dim, num_heads, dropout=dropout)\n",
    "        self.feed_forward = nn.Sequential(\n",
    "            nn.Linear(hidden_dim, 4 * hidden_dim),\n",
    "            nn.ReLU(),\n",
    "            nn.Linear(4 * hidden_dim, hidden_dim),\n",
    "        )\n",
    "        self.layer_norm1 = nn.LayerNorm(hidden_dim)\n",
    "        self.layer_norm2 = nn.LayerNorm(hidden_dim)\n",
    "        self.dropout = nn.Dropout(dropout)\n",
    "\n",
    "    def forward(self, x):\n",
    "        attn_output, _ = self.self_attention(x, x, x)\n",
    "        x = x + self.dropout(attn_output)\n",
    "        x = self.layer_norm1(x)\n",
    "        ff_output = self.feed_forward(x)\n",
    "        x = x + self.dropout(ff_output)\n",
    "        x = self.layer_norm2(x)\n",
    "        return x\n",
    "\n",
    "class TransformerModel(nn.Module):\n",
    "    def __init__(self, input_dim, hidden_dim, output_dim, num_layers, num_heads):\n",
    "        super(TransformerModel, self).__init__()\n",
    "        self.embedding = nn.Linear(input_dim, hidden_dim)\n",
    "        self.transformer_layers = nn.ModuleList([\n",
    "            CustomTransformerLayer(hidden_dim, num_heads) for _ in range(num_layers)\n",
    "        ])\n",
    "        self.fc = nn.Linear(hidden_dim, output_dim)\n",
    "\n",
    "    def forward(self, x):\n",
    "        x = self.embedding(x)\n",
    "        for layer in self.transformer_layers:\n",
    "            x = layer(x)\n",
    "        x = x.mean(dim=1)\n",
    "        x = self.fc(x)\n",
    "        return x\n"
   ]
  },
  {
   "cell_type": "code",
   "execution_count": 14,
   "metadata": {},
   "outputs": [
    {
     "name": "stderr",
     "output_type": "stream",
     "text": [
      "c:\\Users\\USER\\Wayne\\Rolvaag\\.venv\\Lib\\site-packages\\tqdm\\auto.py:21: TqdmWarning: IProgress not found. Please update jupyter and ipywidgets. See https://ipywidgets.readthedocs.io/en/stable/user_install.html\n",
      "  from .autonotebook import tqdm as notebook_tqdm\n"
     ]
    }
   ],
   "source": [
    "#set random seeds\n",
    "torch.manual_seed(42)\n",
    "\n",
    "#creating a data loader\n",
    "# set up DataLoader for training set\n",
    "train_loader = DataLoader(list(zip(X_train, y_train)), shuffle=True, batch_size=64)\n",
    "\n",
    "# set up DataLoader for testing set\n",
    "test_loader = DataLoader(list(zip(X_test, y_test)), shuffle=True, batch_size=10)\n",
    "\n",
    "#define hyperparameters\n",
    "input_dim = 3\n",
    "hidden_dim = 64\n",
    "output_dim = 3\n",
    "num_layers = 9\n",
    "num_heads = 4\n",
    "batch_size = 64\n",
    "num_epochs = 25\n",
    "learning_rate = 0.001\n",
    "\n",
    "#create models and optimizers\n",
    "model = TransformerModel(input_dim,hidden_dim, output_dim, num_layers, num_heads)\n",
    "\n",
    "optimizer =  optim.Adam(model.parameters(), lr=learning_rate)\n",
    "\n",
    "criterion = nn.CrossEntropyLoss()\n"
   ]
  },
  {
   "cell_type": "code",
   "execution_count": 15,
   "metadata": {},
   "outputs": [
    {
     "name": "stdout",
     "output_type": "stream",
     "text": [
      "Epoch 1/25, Loss: 1.0476, Accuracy: 46.73%\n",
      "Epoch 2/25, Loss: 1.0278, Accuracy: 48.52%\n",
      "Epoch 3/25, Loss: 1.0270, Accuracy: 48.69%\n",
      "Epoch 4/25, Loss: 1.0235, Accuracy: 48.75%\n",
      "Epoch 5/25, Loss: 1.0217, Accuracy: 49.04%\n",
      "Epoch 6/25, Loss: 1.0209, Accuracy: 48.81%\n",
      "Epoch 7/25, Loss: 1.0365, Accuracy: 48.04%\n",
      "Epoch 8/25, Loss: 1.0654, Accuracy: 45.39%\n",
      "Epoch 9/25, Loss: 1.0604, Accuracy: 46.27%\n",
      "Epoch 10/25, Loss: 1.0612, Accuracy: 45.82%\n",
      "Epoch 11/25, Loss: 1.0719, Accuracy: 44.27%\n",
      "Epoch 12/25, Loss: 1.0747, Accuracy: 43.84%\n",
      "Epoch 13/25, Loss: 1.0748, Accuracy: 43.78%\n",
      "Epoch 14/25, Loss: 1.0753, Accuracy: 43.73%\n",
      "Epoch 15/25, Loss: 1.0753, Accuracy: 43.73%\n",
      "Epoch 16/25, Loss: 1.0749, Accuracy: 43.73%\n",
      "Epoch 17/25, Loss: 1.0750, Accuracy: 43.73%\n",
      "Epoch 18/25, Loss: 1.0751, Accuracy: 43.73%\n",
      "Epoch 19/25, Loss: 1.0750, Accuracy: 43.73%\n",
      "Epoch 20/25, Loss: 1.0751, Accuracy: 43.73%\n",
      "Epoch 21/25, Loss: 1.0750, Accuracy: 43.73%\n",
      "Epoch 22/25, Loss: 1.0750, Accuracy: 43.73%\n",
      "Epoch 23/25, Loss: 1.0747, Accuracy: 43.73%\n",
      "Epoch 24/25, Loss: 1.0751, Accuracy: 43.73%\n",
      "Epoch 25/25, Loss: 1.0750, Accuracy: 43.73%\n"
     ]
    }
   ],
   "source": [
    "#define hyperparameters\n",
    "for epoch in range(num_epochs):\n",
    "    total_loss = 0\n",
    "    total_correct = 0\n",
    "    total_samples = 0\n",
    "\n",
    "    for batch_idx, (inputs, targets) in enumerate(train_loader):\n",
    "        optimizer.zero_grad()\n",
    "\n",
    "        #adjusting the dimensionality of input data\n",
    "        inputs = inputs.unsqueeze(1)\n",
    "\n",
    "        outputs = model(inputs)\n",
    "        loss = criterion(outputs, targets)\n",
    "        total_loss += loss.item() \n",
    "        _,predicted = torch.max(outputs, 1)\n",
    "        total_correct += (predicted == targets).sum().item()\n",
    "        total_samples += targets.size(0)\n",
    "\n",
    "        loss.backward()\n",
    "        optimizer.step()\n",
    "\n",
    "    avg_loss = total_loss / len(train_loader)\n",
    "    accuracy = 100 * total_correct / total_samples\n",
    "\n",
    "    print(f\"Epoch {epoch+1}/{num_epochs}, Loss: {avg_loss:.4f}, Accuracy: {accuracy:.2f}%\")\n"
   ]
  },
  {
   "cell_type": "code",
   "execution_count": 16,
   "metadata": {},
   "outputs": [
    {
     "name": "stdout",
     "output_type": "stream",
     "text": [
      "Test Accuracy: 44.19\n"
     ]
    }
   ],
   "source": [
    "#evaluating the model on a test set\n",
    "correct = 0\n",
    "total = 0\n",
    "\n",
    "with torch.no_grad():\n",
    "    for inputs, targets in test_loader:\n",
    "        #adjusting the dimensionality of input data\n",
    "        inputs = inputs.unsqueeze(1)\n",
    "\n",
    "        outputs = model(inputs)\n",
    "        _, predicted = torch.max(outputs.data, 1)\n",
    "        total += targets.size(0)\n",
    "        correct += (predicted == targets).sum().item()\n",
    "\n",
    "accuracy = 100* correct/ total\n",
    "print(f\"Test Accuracy: {accuracy:.2f}\")"
   ]
  },
  {
   "cell_type": "code",
   "execution_count": 17,
   "metadata": {},
   "outputs": [
    {
     "data": {
      "text/plain": [
       "torch.Size([1, 3])"
      ]
     },
     "execution_count": 17,
     "metadata": {},
     "output_type": "execute_result"
    }
   ],
   "source": [
    "#[\"B365H\",\"B365D\",\"B365A\"]\n",
    "X_new = np.array([[2.90,3.60,2.30]])\n",
    "#X_net = torch.FloatTensor(X_new)\n",
    "#X_new.view(-1,1)\n",
    "X_new = torch.IntTensor(X_new)\n",
    "X_new.shape"
   ]
  },
  {
   "cell_type": "code",
   "execution_count": 18,
   "metadata": {},
   "outputs": [
    {
     "name": "stdout",
     "output_type": "stream",
     "text": [
      "Predicted Class: 2\n"
     ]
    }
   ],
   "source": [
    "import torch\n",
    "\n",
    "# Assuming your model, optimizer, and criterion are already defined\n",
    "# model = TransformerModel(input_dim, hidden_dim, output_dim, num_layers, num_heads)\n",
    "# optimizer = optim.Adam(model.parameters(), lr=learning_rate)\n",
    "# criterion = nn.CrossEntropyLoss()\n",
    "\n",
    "# Load the trained model checkpoint\n",
    "#checkpoint = torch.load('path_to_your_model_checkpoint.pth')\n",
    "#model.load_state_dict(checkpoint['model_state_dict'])\n",
    "#optimizer.load_state_dict(checkpoint['optimizer_state_dict'])\n",
    "#epoch = checkpoint['epoch']\n",
    "#loss = checkpoint['loss']\n",
    "\n",
    "# Set the model to evaluation mode\n",
    "model.eval()\n",
    "\n",
    "# Create a new input tensor with 7 elements\n",
    "new_input = torch.tensor([12.96,3.23,1.90])\n",
    "\n",
    "# Adjust the dimensionality of the input data\n",
    "new_input = new_input.unsqueeze(0).unsqueeze(1)  # Adding batch and sequence dimensions\n",
    "\n",
    "# Make the prediction\n",
    "with torch.no_grad():\n",
    "    prediction = model(new_input)\n",
    "\n",
    "# Convert the prediction to a probability distribution using softmax\n",
    "predicted_probs = torch.softmax(prediction, dim=1)\n",
    "\n",
    "# Get the predicted class\n",
    "predicted_class = torch.argmax(predicted_probs, dim=1).item()\n",
    "\n",
    "print(\"Predicted Class:\", predicted_class)\n",
    "#{0:A, 1:D, 2:H}\n"
   ]
  }
 ],
 "metadata": {
  "kernelspec": {
   "display_name": ".venv",
   "language": "python",
   "name": "python3"
  },
  "language_info": {
   "codemirror_mode": {
    "name": "ipython",
    "version": 3
   },
   "file_extension": ".py",
   "mimetype": "text/x-python",
   "name": "python",
   "nbconvert_exporter": "python",
   "pygments_lexer": "ipython3",
   "version": "3.11.5"
  }
 },
 "nbformat": 4,
 "nbformat_minor": 2
}
